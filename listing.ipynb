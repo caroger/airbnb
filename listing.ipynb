{
 "cells": [
  {
   "cell_type": "markdown",
   "metadata": {},
   "source": [
    "# Santa Clara County Airbnb Calendar Data Analysis and Visualization"
   ]
  },
  {
   "cell_type": "markdown",
   "metadata": {},
   "source": [
    "In this analysis, I take a look at the Airbnb listing data on Santa Clara County, California, United States. The data set contains the availability and pricing information on all the Aribnb listings in Santa Clara from November 2019 to November 2020. I'd like to gain insights on the following questions from analyzing this dataset:\n",
    "\n",
    "1. Locations of Airbnb listings\n",
    "2. Q2"
   ]
  },
  {
   "cell_type": "markdown",
   "metadata": {},
   "source": [
    "## Set Up Notebook and Workspace"
   ]
  },
  {
   "cell_type": "code",
   "execution_count": 209,
   "metadata": {
    "ExecuteTime": {
     "end_time": "2020-01-20T07:26:18.871424Z",
     "start_time": "2020-01-20T07:26:18.862360Z"
    }
   },
   "outputs": [],
   "source": [
    "import pandas as pd\n",
    "import matplotlib as mpl\n",
    "import matplotlib.pyplot as plt\n",
    "import cartopy.crs as ccrs\n",
    "%matplotlib inline"
   ]
  },
  {
   "cell_type": "code",
   "execution_count": 210,
   "metadata": {
    "ExecuteTime": {
     "end_time": "2020-01-20T07:26:28.014689Z",
     "start_time": "2020-01-20T07:26:19.847993Z"
    }
   },
   "outputs": [],
   "source": [
    "# Load the data\n",
    "df = pd.read_csv('http://data.insideairbnb.com/united-states/ca/santa-clara-county/2019-11-07/data/listings.csv.gz')"
   ]
  },
  {
   "cell_type": "markdown",
   "metadata": {},
   "source": [
    "## Data Inspection and Preparation"
   ]
  },
  {
   "cell_type": "code",
   "execution_count": 211,
   "metadata": {
    "ExecuteTime": {
     "end_time": "2020-01-20T07:26:29.806147Z",
     "start_time": "2020-01-20T07:26:29.800852Z"
    }
   },
   "outputs": [
    {
     "data": {
      "text/plain": [
       "(7658, 106)"
      ]
     },
     "execution_count": 211,
     "metadata": {},
     "output_type": "execute_result"
    }
   ],
   "source": [
    "df.shape"
   ]
  },
  {
   "cell_type": "code",
   "execution_count": 212,
   "metadata": {
    "ExecuteTime": {
     "end_time": "2020-01-20T07:26:30.822154Z",
     "start_time": "2020-01-20T07:26:30.811490Z"
    }
   },
   "outputs": [
    {
     "name": "stdout",
     "output_type": "stream",
     "text": [
      "<class 'pandas.core.frame.DataFrame'>\n",
      "RangeIndex: 7658 entries, 0 to 7657\n",
      "Columns: 106 entries, id to reviews_per_month\n",
      "dtypes: float64(24), int64(21), object(61)\n",
      "memory usage: 6.2+ MB\n"
     ]
    }
   ],
   "source": [
    "df.info()"
   ]
  },
  {
   "cell_type": "code",
   "execution_count": 213,
   "metadata": {
    "ExecuteTime": {
     "end_time": "2020-01-20T07:26:31.682764Z",
     "start_time": "2020-01-20T07:26:31.657037Z"
    }
   },
   "outputs": [
    {
     "data": {
      "text/html": [
       "<div>\n",
       "<style scoped>\n",
       "    .dataframe tbody tr th:only-of-type {\n",
       "        vertical-align: middle;\n",
       "    }\n",
       "\n",
       "    .dataframe tbody tr th {\n",
       "        vertical-align: top;\n",
       "    }\n",
       "\n",
       "    .dataframe thead th {\n",
       "        text-align: right;\n",
       "    }\n",
       "</style>\n",
       "<table border=\"1\" class=\"dataframe\">\n",
       "  <thead>\n",
       "    <tr style=\"text-align: right;\">\n",
       "      <th></th>\n",
       "      <th>id</th>\n",
       "      <th>listing_url</th>\n",
       "      <th>scrape_id</th>\n",
       "      <th>last_scraped</th>\n",
       "      <th>name</th>\n",
       "      <th>summary</th>\n",
       "      <th>space</th>\n",
       "      <th>description</th>\n",
       "      <th>experiences_offered</th>\n",
       "      <th>neighborhood_overview</th>\n",
       "      <th>...</th>\n",
       "      <th>instant_bookable</th>\n",
       "      <th>is_business_travel_ready</th>\n",
       "      <th>cancellation_policy</th>\n",
       "      <th>require_guest_profile_picture</th>\n",
       "      <th>require_guest_phone_verification</th>\n",
       "      <th>calculated_host_listings_count</th>\n",
       "      <th>calculated_host_listings_count_entire_homes</th>\n",
       "      <th>calculated_host_listings_count_private_rooms</th>\n",
       "      <th>calculated_host_listings_count_shared_rooms</th>\n",
       "      <th>reviews_per_month</th>\n",
       "    </tr>\n",
       "  </thead>\n",
       "  <tbody>\n",
       "    <tr>\n",
       "      <th>0</th>\n",
       "      <td>4952</td>\n",
       "      <td>https://www.airbnb.com/rooms/4952</td>\n",
       "      <td>20191107231003</td>\n",
       "      <td>2019-11-07</td>\n",
       "      <td>Butterfly Inn - Graceful Living !</td>\n",
       "      <td>Lovely garden setting in a serene and art-fill...</td>\n",
       "      <td>Very comfortable Queen bed and small desk in b...</td>\n",
       "      <td>Lovely garden setting in a serene and art-fill...</td>\n",
       "      <td>none</td>\n",
       "      <td>Located in Professorville, Palo Alto, one of t...</td>\n",
       "      <td>...</td>\n",
       "      <td>f</td>\n",
       "      <td>f</td>\n",
       "      <td>moderate</td>\n",
       "      <td>f</td>\n",
       "      <td>f</td>\n",
       "      <td>5</td>\n",
       "      <td>0</td>\n",
       "      <td>5</td>\n",
       "      <td>0</td>\n",
       "      <td>0.60</td>\n",
       "    </tr>\n",
       "    <tr>\n",
       "      <th>1</th>\n",
       "      <td>11464</td>\n",
       "      <td>https://www.airbnb.com/rooms/11464</td>\n",
       "      <td>20191107231003</td>\n",
       "      <td>2019-11-08</td>\n",
       "      <td>Deluxe Private Studio-custom int.</td>\n",
       "      <td>Custom built Studio with exquisite design. Per...</td>\n",
       "      <td>Description A favorite for international corpo...</td>\n",
       "      <td>Custom built Studio with exquisite design. Per...</td>\n",
       "      <td>none</td>\n",
       "      <td>10 min. to Lucky's and Starbucks at El Camino ...</td>\n",
       "      <td>...</td>\n",
       "      <td>t</td>\n",
       "      <td>f</td>\n",
       "      <td>moderate</td>\n",
       "      <td>f</td>\n",
       "      <td>t</td>\n",
       "      <td>15</td>\n",
       "      <td>15</td>\n",
       "      <td>0</td>\n",
       "      <td>0</td>\n",
       "      <td>0.09</td>\n",
       "    </tr>\n",
       "    <tr>\n",
       "      <th>2</th>\n",
       "      <td>19181</td>\n",
       "      <td>https://www.airbnb.com/rooms/19181</td>\n",
       "      <td>20191107231003</td>\n",
       "      <td>2019-11-08</td>\n",
       "      <td>Majestic Room #1 with Sauna and Large Family Room</td>\n",
       "      <td>Enjoy your privacy in this spacious and luxuri...</td>\n",
       "      <td>This is a lock-off guest unit in the lower lev...</td>\n",
       "      <td>Enjoy your privacy in this spacious and luxuri...</td>\n",
       "      <td>none</td>\n",
       "      <td>We are located in a 5-minute walk to downtown ...</td>\n",
       "      <td>...</td>\n",
       "      <td>f</td>\n",
       "      <td>f</td>\n",
       "      <td>moderate</td>\n",
       "      <td>t</td>\n",
       "      <td>t</td>\n",
       "      <td>3</td>\n",
       "      <td>1</td>\n",
       "      <td>2</td>\n",
       "      <td>0</td>\n",
       "      <td>0.11</td>\n",
       "    </tr>\n",
       "    <tr>\n",
       "      <th>3</th>\n",
       "      <td>21373</td>\n",
       "      <td>https://www.airbnb.com/rooms/21373</td>\n",
       "      <td>20191107231003</td>\n",
       "      <td>2019-11-07</td>\n",
       "      <td>Bonsai Garden Inn in Professorville</td>\n",
       "      <td>Room  in gracious home with beautiful garden. ...</td>\n",
       "      <td>Bright, garden-facing room in beautiful home. ...</td>\n",
       "      <td>Room  in gracious home with beautiful garden. ...</td>\n",
       "      <td>none</td>\n",
       "      <td>This room is in an ultra convenient location i...</td>\n",
       "      <td>...</td>\n",
       "      <td>f</td>\n",
       "      <td>f</td>\n",
       "      <td>moderate</td>\n",
       "      <td>f</td>\n",
       "      <td>f</td>\n",
       "      <td>5</td>\n",
       "      <td>0</td>\n",
       "      <td>5</td>\n",
       "      <td>0</td>\n",
       "      <td>2.16</td>\n",
       "    </tr>\n",
       "    <tr>\n",
       "      <th>4</th>\n",
       "      <td>23732</td>\n",
       "      <td>https://www.airbnb.com/rooms/23732</td>\n",
       "      <td>20191107231003</td>\n",
       "      <td>2019-11-07</td>\n",
       "      <td>Heart of Silicon Valley bdrm &amp; bath</td>\n",
       "      <td>NaN</td>\n",
       "      <td>You'll have the room to yourself as well as a ...</td>\n",
       "      <td>You'll have the room to yourself as well as a ...</td>\n",
       "      <td>none</td>\n",
       "      <td>NaN</td>\n",
       "      <td>...</td>\n",
       "      <td>f</td>\n",
       "      <td>f</td>\n",
       "      <td>moderate</td>\n",
       "      <td>f</td>\n",
       "      <td>f</td>\n",
       "      <td>1</td>\n",
       "      <td>0</td>\n",
       "      <td>1</td>\n",
       "      <td>0</td>\n",
       "      <td>0.03</td>\n",
       "    </tr>\n",
       "  </tbody>\n",
       "</table>\n",
       "<p>5 rows × 106 columns</p>\n",
       "</div>"
      ],
      "text/plain": [
       "      id                         listing_url       scrape_id last_scraped  \\\n",
       "0   4952   https://www.airbnb.com/rooms/4952  20191107231003   2019-11-07   \n",
       "1  11464  https://www.airbnb.com/rooms/11464  20191107231003   2019-11-08   \n",
       "2  19181  https://www.airbnb.com/rooms/19181  20191107231003   2019-11-08   \n",
       "3  21373  https://www.airbnb.com/rooms/21373  20191107231003   2019-11-07   \n",
       "4  23732  https://www.airbnb.com/rooms/23732  20191107231003   2019-11-07   \n",
       "\n",
       "                                                name  \\\n",
       "0                  Butterfly Inn - Graceful Living !   \n",
       "1                  Deluxe Private Studio-custom int.   \n",
       "2  Majestic Room #1 with Sauna and Large Family Room   \n",
       "3                Bonsai Garden Inn in Professorville   \n",
       "4                Heart of Silicon Valley bdrm & bath   \n",
       "\n",
       "                                             summary  \\\n",
       "0  Lovely garden setting in a serene and art-fill...   \n",
       "1  Custom built Studio with exquisite design. Per...   \n",
       "2  Enjoy your privacy in this spacious and luxuri...   \n",
       "3  Room  in gracious home with beautiful garden. ...   \n",
       "4                                                NaN   \n",
       "\n",
       "                                               space  \\\n",
       "0  Very comfortable Queen bed and small desk in b...   \n",
       "1  Description A favorite for international corpo...   \n",
       "2  This is a lock-off guest unit in the lower lev...   \n",
       "3  Bright, garden-facing room in beautiful home. ...   \n",
       "4  You'll have the room to yourself as well as a ...   \n",
       "\n",
       "                                         description experiences_offered  \\\n",
       "0  Lovely garden setting in a serene and art-fill...                none   \n",
       "1  Custom built Studio with exquisite design. Per...                none   \n",
       "2  Enjoy your privacy in this spacious and luxuri...                none   \n",
       "3  Room  in gracious home with beautiful garden. ...                none   \n",
       "4  You'll have the room to yourself as well as a ...                none   \n",
       "\n",
       "                               neighborhood_overview  ... instant_bookable  \\\n",
       "0  Located in Professorville, Palo Alto, one of t...  ...                f   \n",
       "1  10 min. to Lucky's and Starbucks at El Camino ...  ...                t   \n",
       "2  We are located in a 5-minute walk to downtown ...  ...                f   \n",
       "3  This room is in an ultra convenient location i...  ...                f   \n",
       "4                                                NaN  ...                f   \n",
       "\n",
       "  is_business_travel_ready cancellation_policy require_guest_profile_picture  \\\n",
       "0                        f            moderate                             f   \n",
       "1                        f            moderate                             f   \n",
       "2                        f            moderate                             t   \n",
       "3                        f            moderate                             f   \n",
       "4                        f            moderate                             f   \n",
       "\n",
       "  require_guest_phone_verification  calculated_host_listings_count  \\\n",
       "0                                f                               5   \n",
       "1                                t                              15   \n",
       "2                                t                               3   \n",
       "3                                f                               5   \n",
       "4                                f                               1   \n",
       "\n",
       "   calculated_host_listings_count_entire_homes  \\\n",
       "0                                            0   \n",
       "1                                           15   \n",
       "2                                            1   \n",
       "3                                            0   \n",
       "4                                            0   \n",
       "\n",
       "  calculated_host_listings_count_private_rooms  \\\n",
       "0                                            5   \n",
       "1                                            0   \n",
       "2                                            2   \n",
       "3                                            5   \n",
       "4                                            1   \n",
       "\n",
       "   calculated_host_listings_count_shared_rooms  reviews_per_month  \n",
       "0                                            0               0.60  \n",
       "1                                            0               0.09  \n",
       "2                                            0               0.11  \n",
       "3                                            0               2.16  \n",
       "4                                            0               0.03  \n",
       "\n",
       "[5 rows x 106 columns]"
      ]
     },
     "execution_count": 213,
     "metadata": {},
     "output_type": "execute_result"
    }
   ],
   "source": [
    "df.head()"
   ]
  },
  {
   "cell_type": "code",
   "execution_count": 214,
   "metadata": {
    "ExecuteTime": {
     "end_time": "2020-01-20T07:26:32.872500Z",
     "start_time": "2020-01-20T07:26:32.840975Z"
    },
    "code_folding": []
   },
   "outputs": [
    {
     "data": {
      "text/plain": [
       "review_scores_value             0.187386\n",
       "jurisdiction_names              0.191564\n",
       "security_deposit                0.205145\n",
       "space                           0.247323\n",
       "host_about                      0.328415\n",
       "house_rules                     0.333377\n",
       "neighborhood_overview           0.378036\n",
       "interaction                     0.409376\n",
       "access                          0.414991\n",
       "transit                         0.423087\n",
       "notes                           0.487595\n",
       "monthly_price                   0.910943\n",
       "weekly_price                    0.916166\n",
       "square_feet                     0.995952\n",
       "thumbnail_url                   1.000000\n",
       "license                         1.000000\n",
       "medium_url                      1.000000\n",
       "neighbourhood_group_cleansed    1.000000\n",
       "host_acceptance_rate            1.000000\n",
       "xl_picture_url                  1.000000\n",
       "dtype: float64"
      ]
     },
     "execution_count": 214,
     "metadata": {},
     "output_type": "execute_result"
    }
   ],
   "source": [
    "# Columns with the most missing values\n",
    "df.isna().mean().sort_values().tail(20)"
   ]
  },
  {
   "cell_type": "code",
   "execution_count": 215,
   "metadata": {
    "ExecuteTime": {
     "end_time": "2020-01-20T07:26:35.247034Z",
     "start_time": "2020-01-20T07:26:35.235977Z"
    }
   },
   "outputs": [
    {
     "data": {
      "text/plain": [
       "review_scores_rating           0.186994\n",
       "review_scores_accuracy         0.187125\n",
       "review_scores_cleanliness      0.187125\n",
       "review_scores_checkin          0.187386\n",
       "review_scores_communication    0.187255\n",
       "review_scores_location         0.187255\n",
       "review_scores_value            0.187386\n",
       "dtype: float64"
      ]
     },
     "execution_count": 215,
     "metadata": {},
     "output_type": "execute_result"
    }
   ],
   "source": [
    "# Columns contain keywords \"review\"\n",
    "df.filter(like='score', axis=1).isna().mean()"
   ]
  },
  {
   "cell_type": "code",
   "execution_count": 216,
   "metadata": {
    "ExecuteTime": {
     "end_time": "2020-01-20T07:26:37.130111Z",
     "start_time": "2020-01-20T07:26:37.105673Z"
    }
   },
   "outputs": [
    {
     "data": {
      "text/plain": [
       "Index(['id', 'scrape_id', 'thumbnail_url', 'medium_url', 'xl_picture_url',\n",
       "       'host_id', 'host_acceptance_rate', 'host_listings_count',\n",
       "       'host_total_listings_count', 'neighbourhood_group_cleansed', 'latitude',\n",
       "       'longitude', 'accommodates', 'bathrooms', 'bedrooms', 'beds',\n",
       "       'square_feet', 'guests_included', 'minimum_nights', 'maximum_nights',\n",
       "       'minimum_minimum_nights', 'maximum_minimum_nights',\n",
       "       'minimum_maximum_nights', 'maximum_maximum_nights',\n",
       "       'minimum_nights_avg_ntm', 'maximum_nights_avg_ntm', 'availability_30',\n",
       "       'availability_60', 'availability_90', 'availability_365',\n",
       "       'number_of_reviews', 'number_of_reviews_ltm', 'review_scores_rating',\n",
       "       'review_scores_accuracy', 'review_scores_cleanliness',\n",
       "       'review_scores_checkin', 'review_scores_communication',\n",
       "       'review_scores_location', 'review_scores_value', 'license',\n",
       "       'calculated_host_listings_count',\n",
       "       'calculated_host_listings_count_entire_homes',\n",
       "       'calculated_host_listings_count_private_rooms',\n",
       "       'calculated_host_listings_count_shared_rooms', 'reviews_per_month'],\n",
       "      dtype='object')"
      ]
     },
     "execution_count": 216,
     "metadata": {},
     "output_type": "execute_result"
    }
   ],
   "source": [
    "## Numerical columns\n",
    "df.select_dtypes(exclude = 'object').columns"
   ]
  },
  {
   "cell_type": "code",
   "execution_count": 217,
   "metadata": {
    "ExecuteTime": {
     "end_time": "2020-01-20T07:26:37.986717Z",
     "start_time": "2020-01-20T07:26:37.960027Z"
    },
    "scrolled": true
   },
   "outputs": [
    {
     "data": {
      "text/plain": [
       "Index(['listing_url', 'last_scraped', 'name', 'summary', 'space',\n",
       "       'description', 'experiences_offered', 'neighborhood_overview', 'notes',\n",
       "       'transit', 'access', 'interaction', 'house_rules', 'picture_url',\n",
       "       'host_url', 'host_name', 'host_since', 'host_location', 'host_about',\n",
       "       'host_response_time', 'host_response_rate', 'host_is_superhost',\n",
       "       'host_thumbnail_url', 'host_picture_url', 'host_neighbourhood',\n",
       "       'host_verifications', 'host_has_profile_pic', 'host_identity_verified',\n",
       "       'street', 'neighbourhood', 'neighbourhood_cleansed', 'city', 'state',\n",
       "       'zipcode', 'market', 'smart_location', 'country_code', 'country',\n",
       "       'is_location_exact', 'property_type', 'room_type', 'bed_type',\n",
       "       'amenities', 'price', 'weekly_price', 'monthly_price',\n",
       "       'security_deposit', 'cleaning_fee', 'extra_people', 'calendar_updated',\n",
       "       'has_availability', 'calendar_last_scraped', 'first_review',\n",
       "       'last_review', 'requires_license', 'jurisdiction_names',\n",
       "       'instant_bookable', 'is_business_travel_ready', 'cancellation_policy',\n",
       "       'require_guest_profile_picture', 'require_guest_phone_verification'],\n",
       "      dtype='object')"
      ]
     },
     "execution_count": 217,
     "metadata": {},
     "output_type": "execute_result"
    }
   ],
   "source": [
    "# Str columns\n",
    "df.select_dtypes(include = 'object').columns"
   ]
  },
  {
   "cell_type": "markdown",
   "metadata": {},
   "source": [
    "## Number of Listings and Pricings by Zipcode"
   ]
  },
  {
   "cell_type": "code",
   "execution_count": 218,
   "metadata": {
    "ExecuteTime": {
     "end_time": "2020-01-20T07:26:39.203592Z",
     "start_time": "2020-01-20T07:26:39.182230Z"
    }
   },
   "outputs": [
    {
     "data": {
      "text/plain": [
       "zipcode\n",
       "94306    369\n",
       "95112    344\n",
       "95014    307\n",
       "95035    306\n",
       "94043    291\n",
       "        ... \n",
       "94115      1\n",
       "94526      1\n",
       "94028      1\n",
       "95009      1\n",
       "95215      1\n",
       "Name: id, Length: 64, dtype: int64"
      ]
     },
     "execution_count": 218,
     "metadata": {},
     "output_type": "execute_result"
    }
   ],
   "source": [
    "# clean up zipcode column data (i.e. \"CA 94041\" ---> \"94041\")\n",
    "df['zipcode'] = df['zipcode'].str.extract(pat = '(9+[0-9]{4})')\n",
    "df.groupby('zipcode')['id'].count().sort_values(ascending = False)"
   ]
  },
  {
   "cell_type": "code",
   "execution_count": 181,
   "metadata": {
    "ExecuteTime": {
     "end_time": "2020-01-20T06:23:42.812545Z",
     "start_time": "2020-01-20T06:23:42.784272Z"
    }
   },
   "outputs": [
    {
     "data": {
      "text/html": [
       "<div>\n",
       "<style scoped>\n",
       "    .dataframe tbody tr th:only-of-type {\n",
       "        vertical-align: middle;\n",
       "    }\n",
       "\n",
       "    .dataframe tbody tr th {\n",
       "        vertical-align: top;\n",
       "    }\n",
       "\n",
       "    .dataframe thead th {\n",
       "        text-align: right;\n",
       "    }\n",
       "</style>\n",
       "<table border=\"1\" class=\"dataframe\">\n",
       "  <thead>\n",
       "    <tr style=\"text-align: right;\">\n",
       "      <th></th>\n",
       "      <th>zipcode</th>\n",
       "      <th>price</th>\n",
       "    </tr>\n",
       "  </thead>\n",
       "  <tbody>\n",
       "    <tr>\n",
       "      <th>0</th>\n",
       "      <td>94301</td>\n",
       "      <td>90.0</td>\n",
       "    </tr>\n",
       "    <tr>\n",
       "      <th>1</th>\n",
       "      <td>95051</td>\n",
       "      <td>85.0</td>\n",
       "    </tr>\n",
       "    <tr>\n",
       "      <th>2</th>\n",
       "      <td>95070</td>\n",
       "      <td>100.0</td>\n",
       "    </tr>\n",
       "    <tr>\n",
       "      <th>3</th>\n",
       "      <td>94301</td>\n",
       "      <td>99.0</td>\n",
       "    </tr>\n",
       "    <tr>\n",
       "      <th>4</th>\n",
       "      <td>94043</td>\n",
       "      <td>299.0</td>\n",
       "    </tr>\n",
       "    <tr>\n",
       "      <th>...</th>\n",
       "      <td>...</td>\n",
       "      <td>...</td>\n",
       "    </tr>\n",
       "    <tr>\n",
       "      <th>7653</th>\n",
       "      <td>94303</td>\n",
       "      <td>85.0</td>\n",
       "    </tr>\n",
       "    <tr>\n",
       "      <th>7654</th>\n",
       "      <td>95051</td>\n",
       "      <td>160.0</td>\n",
       "    </tr>\n",
       "    <tr>\n",
       "      <th>7655</th>\n",
       "      <td>94086</td>\n",
       "      <td>270.0</td>\n",
       "    </tr>\n",
       "    <tr>\n",
       "      <th>7656</th>\n",
       "      <td>95118</td>\n",
       "      <td>105.0</td>\n",
       "    </tr>\n",
       "    <tr>\n",
       "      <th>7657</th>\n",
       "      <td>95112</td>\n",
       "      <td>100.0</td>\n",
       "    </tr>\n",
       "  </tbody>\n",
       "</table>\n",
       "<p>7658 rows × 2 columns</p>\n",
       "</div>"
      ],
      "text/plain": [
       "     zipcode  price\n",
       "0      94301   90.0\n",
       "1      95051   85.0\n",
       "2      95070  100.0\n",
       "3      94301   99.0\n",
       "4      94043  299.0\n",
       "...      ...    ...\n",
       "7653   94303   85.0\n",
       "7654   95051  160.0\n",
       "7655   94086  270.0\n",
       "7656   95118  105.0\n",
       "7657   95112  100.0\n",
       "\n",
       "[7658 rows x 2 columns]"
      ]
     },
     "execution_count": 181,
     "metadata": {},
     "output_type": "execute_result"
    }
   ],
   "source": [
    "# convert listing price from obj. to float\n",
    "df['price'] = df['price'].replace('[^.0-9]', '', regex=True).astype(float)\n"
   ]
  },
  {
   "cell_type": "code",
   "execution_count": 219,
   "metadata": {
    "ExecuteTime": {
     "end_time": "2020-01-20T07:26:41.312133Z",
     "start_time": "2020-01-20T07:26:41.296799Z"
    }
   },
   "outputs": [
    {
     "data": {
      "text/html": [
       "<div>\n",
       "<style scoped>\n",
       "    .dataframe tbody tr th:only-of-type {\n",
       "        vertical-align: middle;\n",
       "    }\n",
       "\n",
       "    .dataframe tbody tr th {\n",
       "        vertical-align: top;\n",
       "    }\n",
       "\n",
       "    .dataframe thead th {\n",
       "        text-align: right;\n",
       "    }\n",
       "</style>\n",
       "<table border=\"1\" class=\"dataframe\">\n",
       "  <thead>\n",
       "    <tr style=\"text-align: right;\">\n",
       "      <th></th>\n",
       "      <th>latitude</th>\n",
       "      <th>longitude</th>\n",
       "      <th>zipcode</th>\n",
       "    </tr>\n",
       "  </thead>\n",
       "  <tbody>\n",
       "    <tr>\n",
       "      <th>156</th>\n",
       "      <td>37.42111</td>\n",
       "      <td>-122.15312</td>\n",
       "      <td>NaN</td>\n",
       "    </tr>\n",
       "    <tr>\n",
       "      <th>200</th>\n",
       "      <td>37.15116</td>\n",
       "      <td>-121.98852</td>\n",
       "      <td>NaN</td>\n",
       "    </tr>\n",
       "    <tr>\n",
       "      <th>277</th>\n",
       "      <td>37.35257</td>\n",
       "      <td>-122.05682</td>\n",
       "      <td>NaN</td>\n",
       "    </tr>\n",
       "    <tr>\n",
       "      <th>407</th>\n",
       "      <td>37.31950</td>\n",
       "      <td>-121.95730</td>\n",
       "      <td>NaN</td>\n",
       "    </tr>\n",
       "    <tr>\n",
       "      <th>584</th>\n",
       "      <td>37.37475</td>\n",
       "      <td>-122.07304</td>\n",
       "      <td>NaN</td>\n",
       "    </tr>\n",
       "    <tr>\n",
       "      <th>...</th>\n",
       "      <td>...</td>\n",
       "      <td>...</td>\n",
       "      <td>...</td>\n",
       "    </tr>\n",
       "    <tr>\n",
       "      <th>6387</th>\n",
       "      <td>37.39008</td>\n",
       "      <td>-122.01894</td>\n",
       "      <td>NaN</td>\n",
       "    </tr>\n",
       "    <tr>\n",
       "      <th>6408</th>\n",
       "      <td>37.23498</td>\n",
       "      <td>-121.96323</td>\n",
       "      <td>NaN</td>\n",
       "    </tr>\n",
       "    <tr>\n",
       "      <th>6446</th>\n",
       "      <td>37.39367</td>\n",
       "      <td>-121.94926</td>\n",
       "      <td>NaN</td>\n",
       "    </tr>\n",
       "    <tr>\n",
       "      <th>6641</th>\n",
       "      <td>37.37573</td>\n",
       "      <td>-122.06113</td>\n",
       "      <td>NaN</td>\n",
       "    </tr>\n",
       "    <tr>\n",
       "      <th>7335</th>\n",
       "      <td>37.32018</td>\n",
       "      <td>-121.94765</td>\n",
       "      <td>NaN</td>\n",
       "    </tr>\n",
       "  </tbody>\n",
       "</table>\n",
       "<p>395 rows × 3 columns</p>\n",
       "</div>"
      ],
      "text/plain": [
       "      latitude  longitude zipcode\n",
       "156   37.42111 -122.15312     NaN\n",
       "200   37.15116 -121.98852     NaN\n",
       "277   37.35257 -122.05682     NaN\n",
       "407   37.31950 -121.95730     NaN\n",
       "584   37.37475 -122.07304     NaN\n",
       "...        ...        ...     ...\n",
       "6387  37.39008 -122.01894     NaN\n",
       "6408  37.23498 -121.96323     NaN\n",
       "6446  37.39367 -121.94926     NaN\n",
       "6641  37.37573 -122.06113     NaN\n",
       "7335  37.32018 -121.94765     NaN\n",
       "\n",
       "[395 rows x 3 columns]"
      ]
     },
     "execution_count": 219,
     "metadata": {},
     "output_type": "execute_result"
    }
   ],
   "source": [
    "df[df['zipcode'].isna()][['latitude','longitude','zipcode']]"
   ]
  },
  {
   "cell_type": "code",
   "execution_count": 273,
   "metadata": {
    "ExecuteTime": {
     "end_time": "2020-01-20T08:02:50.535660Z",
     "start_time": "2020-01-20T08:02:49.149582Z"
    }
   },
   "outputs": [
    {
     "data": {
      "text/plain": [
       "<matplotlib.collections.PathCollection at 0x7fe7bb39e8d0>"
      ]
     },
     "execution_count": 273,
     "metadata": {},
     "output_type": "execute_result"
    },
    {
     "data": {
      "image/png": "[encoded data removed]",
      "text/plain": [
       "<Figure size 1296x576 with 1 Axes>"
      ]
     },
     "metadata": {
      "needs_background": "light"
     },
     "output_type": "display_data"
    }
   ],
   "source": [
    "import cartopy.crs as ccrs\n",
    "import cartopy.feature as cfeature\n",
    "import cartopy.io.shapereader as shpreader\n",
    "\n",
    "fname = 'data/countyl010g_shp_nt00964/countyl010g.shp'\n",
    "reader = shpreader.Reader(fname)\n",
    "counties = list(reader.geometries())\n",
    "COUNTIES = cfeature.ShapelyFeature(counties, ccrs.PlateCarree())\n",
    "\n",
    "\n",
    "plt.figure(figsize=(18, 8))\n",
    "ax = plt.axes(projection=ccrs.PlateCarree())\n",
    "ax.add_feature(cfeature.LAND.with_scale('10m'))\n",
    "ax.add_feature(cfeature.OCEAN.with_scale('10m'))\n",
    "ax.add_feature(cfeature.LAKES.with_scale('10m'))\n",
    "ax.add_feature(COUNTIES, facecolor='None', edgecolor='gray')\n",
    "\n",
    "\n",
    "\n",
    "BBox = [df.longitude.min()-0.1, df.longitude.max()+0.1,\n",
    "        df.latitude.min()-0.1, df.latitude.max()+0.1]\n",
    "\n",
    "ax.set_extent(BBox)\n",
    "plt.scatter(x = df['longitude'], y = df['latitude'], transform = ccrs.PlateCarree())\n",
    "\n",
    "\n",
    "\n"
   ]
  },
  {
   "cell_type": "code",
   "execution_count": null,
   "metadata": {
    "ExecuteTime": {
     "end_time": "2020-01-19T23:09:39.553799Z",
     "start_time": "2020-01-19T23:09:36.831Z"
    }
   },
   "outputs": [],
   "source": [
    "# cut the review_scores_rating into 10 bins\n",
    "bins = list(range(0,110,10))\n",
    "lst_df['ratings']=pd.cut(lst_df['review_scores_rating'],bins)\n"
   ]
  },
  {
   "cell_type": "code",
   "execution_count": null,
   "metadata": {
    "ExecuteTime": {
     "end_time": "2020-01-19T23:09:39.554843Z",
     "start_time": "2020-01-19T23:09:36.833Z"
    }
   },
   "outputs": [],
   "source": [
    "# How many listings fall under each rating\n",
    "lst_df.groupby('ratings').count()['id'].plot(kind = 'bar')"
   ]
  },
  {
   "cell_type": "markdown",
   "metadata": {},
   "source": [
    "### Is higher rated listing more expensive?"
   ]
  },
  {
   "cell_type": "code",
   "execution_count": null,
   "metadata": {
    "ExecuteTime": {
     "end_time": "2020-01-19T23:09:39.555933Z",
     "start_time": "2020-01-19T23:09:36.835Z"
    }
   },
   "outputs": [],
   "source": [
    "# convert price column data type from object to float\n",
    "lst_df['price'] = lst_df['price'].replace('[\\$,]', '', regex=True).astype(float)\n",
    "\n",
    "# plot average listing price against review scores\n",
    "lst_df.groupby('ratings')[['price']].mean().plot(kind = 'bar')\n"
   ]
  },
  {
   "cell_type": "markdown",
   "metadata": {},
   "source": [
    "### How does host response time impact customer satisfaction?"
   ]
  },
  {
   "cell_type": "code",
   "execution_count": null,
   "metadata": {
    "ExecuteTime": {
     "end_time": "2020-01-19T23:09:39.557014Z",
     "start_time": "2020-01-19T23:09:36.837Z"
    }
   },
   "outputs": [],
   "source": [
    "lst_df.groupby('host_response_time').mean()['review_scores_rating'].plot.bar()"
   ]
  },
  {
   "cell_type": "markdown",
   "metadata": {},
   "source": [
    "### Most expensive zipcode"
   ]
  },
  {
   "cell_type": "code",
   "execution_count": null,
   "metadata": {
    "ExecuteTime": {
     "end_time": "2020-01-19T23:09:39.558082Z",
     "start_time": "2020-01-19T23:09:36.840Z"
    }
   },
   "outputs": [],
   "source": [
    "lst_df.groupby(['zipcode'])['price'].agg(['mean','count']).sort_values('mean', ascending = False)"
   ]
  },
  {
   "cell_type": "markdown",
   "metadata": {},
   "source": [
    "### Does super host's room command a premium"
   ]
  },
  {
   "cell_type": "code",
   "execution_count": null,
   "metadata": {
    "ExecuteTime": {
     "end_time": "2020-01-19T23:09:39.559417Z",
     "start_time": "2020-01-19T23:09:36.843Z"
    }
   },
   "outputs": [],
   "source": [
    "lst_df.groupby(['host_is_superhost'])['review_scores_rating'].agg(['mean','count']).sort_values('mean', ascending = False)"
   ]
  },
  {
   "cell_type": "code",
   "execution_count": null,
   "metadata": {
    "ExecuteTime": {
     "end_time": "2020-01-19T23:09:39.560549Z",
     "start_time": "2020-01-19T23:09:36.846Z"
    }
   },
   "outputs": [],
   "source": [
    "lst_df.groupby(['host_is_superhost'])['price'].agg(['mean','count']).sort_values('mean', ascending = False)"
   ]
  }
 ],
 "metadata": {
  "hide_input": false,
  "kernelspec": {
   "display_name": "Python 3",
   "language": "python",
   "name": "python3"
  },
  "language_info": {
   "codemirror_mode": {
    "name": "ipython",
    "version": 3
   },
   "file_extension": ".py",
   "mimetype": "text/x-python",
   "name": "python",
   "nbconvert_exporter": "python",
   "pygments_lexer": "ipython3",
   "version": "3.7.4"
  },
  "toc": {
   "base_numbering": 1,
   "nav_menu": {},
   "number_sections": true,
   "sideBar": true,
   "skip_h1_title": true,
   "title_cell": "Table of Contents",
   "title_sidebar": "Contents",
   "toc_cell": false,
   "toc_position": {},
   "toc_section_display": true,
   "toc_window_display": true
  },
  "varInspector": {
   "cols": {
    "lenName": 16,
    "lenType": 16,
    "lenVar": 40
   },
   "kernels_config": {
    "python": {
     "delete_cmd_postfix": "",
     "delete_cmd_prefix": "del ",
     "library": "var_list.py",
     "varRefreshCmd": "print(var_dic_list())"
    },
    "r": {
     "delete_cmd_postfix": ") ",
     "delete_cmd_prefix": "rm(",
     "library": "var_list.r",
     "varRefreshCmd": "cat(var_dic_list()) "
    }
   },
   "position": {
    "height": "320.844px",
    "left": "1570px",
    "right": "20px",
    "top": "119px",
    "width": "310px"
   },
   "types_to_exclude": [
    "module",
    "function",
    "builtin_function_or_method",
    "instance",
    "_Feature"
   ],
   "window_display": true
  }
 },
 "nbformat": 4,
 "nbformat_minor": 2
}
