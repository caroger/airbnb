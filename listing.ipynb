{
 "cells": [
  {
   "cell_type": "markdown",
   "metadata": {},
   "source": [
    "# Santa Clara County Airbnb Calendar Data Analysis and Visualization"
   ]
  },
  {
   "cell_type": "markdown",
   "metadata": {},
   "source": [
    "In this analysis, I take a look at the Airbnb listing data on Santa Clara County, California, United States. The data set contains the availability and pricing information on all the Aribnb listings in Santa Clara from November 2019 to November 2020. I would like to analyze this dataset to gain insights to help Airbnb users to develop a better booking strategy when they travel to Santa Clara County and are in need for booking a room through Airbnb in the future.\n",
    "\n",
    "I hope to derive detailed answers to the following questions from this analysis:\n",
    "\n",
    "1. Where (which city) is the most/least expensive place?\n",
    "2. Where (which city) has the highest review ratings?\n",
    "3. Is paying extra cleaning fee worth it?"
   ]
  },
  {
   "cell_type": "markdown",
   "metadata": {},
   "source": [
    "# Data Cleaning and Preprocessing"
   ]
  },
  {
   "cell_type": "markdown",
   "metadata": {},
   "source": [
    "## Set up notebook and workspace"
   ]
  },
  {
   "cell_type": "code",
   "execution_count": 1,
   "metadata": {
    "ExecuteTime": {
     "end_time": "2020-02-15T09:05:48.817793Z",
     "start_time": "2020-02-15T09:05:48.811979Z"
    },
    "run_control": {
     "marked": true
    }
   },
   "outputs": [],
   "source": [
    "# Load watermark jupyterlab extension\n",
    "%load_ext watermark"
   ]
  },
  {
   "cell_type": "code",
   "execution_count": 2,
   "metadata": {
    "ExecuteTime": {
     "end_time": "2020-02-15T09:05:48.829150Z",
     "start_time": "2020-02-15T09:05:48.820469Z"
    },
    "run_control": {
     "marked": true
    }
   },
   "outputs": [],
   "source": [
    "# Import necessary packages\n",
    "import pandas as pd\n",
    "import matplotlib as mpl\n",
    "import matplotlib.pyplot as plt\n",
    "import numpy as np\n",
    "from uszipcode import SearchEngine\n",
    "import cartopy.crs as ccrs\n",
    "import cartopy.feature as cfeature\n",
    "import cartopy.io.shapereader as shpreader\n",
    "import seaborn as sns\n",
    "\n",
    "%matplotlib inline"
   ]
  },
  {
   "cell_type": "code",
   "execution_count": 3,
   "metadata": {
    "ExecuteTime": {
     "end_time": "2020-02-15T09:05:48.837627Z",
     "start_time": "2020-02-15T09:05:48.832248Z"
    },
    "run_control": {
     "marked": true
    }
   },
   "outputs": [
    {
     "name": "stdout",
     "output_type": "stream",
     "text": [
      "pandas     0.25.3\n",
      "seaborn    0.9.0\n",
      "numpy      1.17.4\n",
      "matplotlib 3.1.3\n",
      "CPython 3.7.4\n",
      "IPython 7.11.1\n"
     ]
    }
   ],
   "source": [
    "# Show package versions\n",
    "%watermark -v -iv"
   ]
  },
  {
   "cell_type": "code",
   "execution_count": 4,
   "metadata": {
    "ExecuteTime": {
     "end_time": "2020-02-15T09:05:51.199536Z",
     "start_time": "2020-02-15T09:05:48.839903Z"
    },
    "run_control": {
     "marked": true
    }
   },
   "outputs": [],
   "source": [
    "# Load the data\n",
    "df = pd.read_csv(\n",
    "    \"http://data.insideairbnb.com/united-states/ca/santa-clara-county/2019-11-07/data/listings.csv.gz\"\n",
    ")"
   ]
  },
  {
   "cell_type": "markdown",
   "metadata": {},
   "source": [
    "## First look at data"
   ]
  },
  {
   "cell_type": "code",
   "execution_count": 5,
   "metadata": {
    "ExecuteTime": {
     "end_time": "2020-02-15T09:05:51.204607Z",
     "start_time": "2020-02-15T09:05:51.201090Z"
    },
    "run_control": {
     "marked": true
    }
   },
   "outputs": [
    {
     "data": {
      "text/plain": [
       "(7658, 106)"
      ]
     },
     "execution_count": 5,
     "metadata": {},
     "output_type": "execute_result"
    }
   ],
   "source": [
    "df.shape"
   ]
  },
  {
   "cell_type": "code",
   "execution_count": 6,
   "metadata": {
    "ExecuteTime": {
     "end_time": "2020-02-15T09:05:51.219653Z",
     "start_time": "2020-02-15T09:05:51.206303Z"
    },
    "run_control": {
     "marked": true
    }
   },
   "outputs": [
    {
     "name": "stdout",
     "output_type": "stream",
     "text": [
      "<class 'pandas.core.frame.DataFrame'>\n",
      "RangeIndex: 7658 entries, 0 to 7657\n",
      "Columns: 106 entries, id to reviews_per_month\n",
      "dtypes: float64(24), int64(21), object(61)\n",
      "memory usage: 6.2+ MB\n"
     ]
    }
   ],
   "source": [
    "df.info()"
   ]
  },
  {
   "cell_type": "code",
   "execution_count": 7,
   "metadata": {
    "ExecuteTime": {
     "end_time": "2020-02-15T09:05:51.242416Z",
     "start_time": "2020-02-15T09:05:51.221537Z"
    },
    "run_control": {
     "marked": true
    }
   },
   "outputs": [
    {
     "data": {
      "text/html": [
       "<div>\n",
       "<style scoped>\n",
       "    .dataframe tbody tr th:only-of-type {\n",
       "        vertical-align: middle;\n",
       "    }\n",
       "\n",
       "    .dataframe tbody tr th {\n",
       "        vertical-align: top;\n",
       "    }\n",
       "\n",
       "    .dataframe thead th {\n",
       "        text-align: right;\n",
       "    }\n",
       "</style>\n",
       "<table border=\"1\" class=\"dataframe\">\n",
       "  <thead>\n",
       "    <tr style=\"text-align: right;\">\n",
       "      <th></th>\n",
       "      <th>id</th>\n",
       "      <th>listing_url</th>\n",
       "      <th>scrape_id</th>\n",
       "      <th>last_scraped</th>\n",
       "      <th>name</th>\n",
       "      <th>summary</th>\n",
       "      <th>space</th>\n",
       "      <th>description</th>\n",
       "      <th>experiences_offered</th>\n",
       "      <th>neighborhood_overview</th>\n",
       "      <th>...</th>\n",
       "      <th>instant_bookable</th>\n",
       "      <th>is_business_travel_ready</th>\n",
       "      <th>cancellation_policy</th>\n",
       "      <th>require_guest_profile_picture</th>\n",
       "      <th>require_guest_phone_verification</th>\n",
       "      <th>calculated_host_listings_count</th>\n",
       "      <th>calculated_host_listings_count_entire_homes</th>\n",
       "      <th>calculated_host_listings_count_private_rooms</th>\n",
       "      <th>calculated_host_listings_count_shared_rooms</th>\n",
       "      <th>reviews_per_month</th>\n",
       "    </tr>\n",
       "  </thead>\n",
       "  <tbody>\n",
       "    <tr>\n",
       "      <th>0</th>\n",
       "      <td>4952</td>\n",
       "      <td>https://www.airbnb.com/rooms/4952</td>\n",
       "      <td>20191107231003</td>\n",
       "      <td>2019-11-07</td>\n",
       "      <td>Butterfly Inn - Graceful Living !</td>\n",
       "      <td>Lovely garden setting in a serene and art-fill...</td>\n",
       "      <td>Very comfortable Queen bed and small desk in b...</td>\n",
       "      <td>Lovely garden setting in a serene and art-fill...</td>\n",
       "      <td>none</td>\n",
       "      <td>Located in Professorville, Palo Alto, one of t...</td>\n",
       "      <td>...</td>\n",
       "      <td>f</td>\n",
       "      <td>f</td>\n",
       "      <td>moderate</td>\n",
       "      <td>f</td>\n",
       "      <td>f</td>\n",
       "      <td>5</td>\n",
       "      <td>0</td>\n",
       "      <td>5</td>\n",
       "      <td>0</td>\n",
       "      <td>0.60</td>\n",
       "    </tr>\n",
       "    <tr>\n",
       "      <th>1</th>\n",
       "      <td>11464</td>\n",
       "      <td>https://www.airbnb.com/rooms/11464</td>\n",
       "      <td>20191107231003</td>\n",
       "      <td>2019-11-08</td>\n",
       "      <td>Deluxe Private Studio-custom int.</td>\n",
       "      <td>Custom built Studio with exquisite design. Per...</td>\n",
       "      <td>Description A favorite for international corpo...</td>\n",
       "      <td>Custom built Studio with exquisite design. Per...</td>\n",
       "      <td>none</td>\n",
       "      <td>10 min. to Lucky's and Starbucks at El Camino ...</td>\n",
       "      <td>...</td>\n",
       "      <td>t</td>\n",
       "      <td>f</td>\n",
       "      <td>moderate</td>\n",
       "      <td>f</td>\n",
       "      <td>t</td>\n",
       "      <td>15</td>\n",
       "      <td>15</td>\n",
       "      <td>0</td>\n",
       "      <td>0</td>\n",
       "      <td>0.09</td>\n",
       "    </tr>\n",
       "    <tr>\n",
       "      <th>2</th>\n",
       "      <td>19181</td>\n",
       "      <td>https://www.airbnb.com/rooms/19181</td>\n",
       "      <td>20191107231003</td>\n",
       "      <td>2019-11-08</td>\n",
       "      <td>Majestic Room #1 with Sauna and Large Family Room</td>\n",
       "      <td>Enjoy your privacy in this spacious and luxuri...</td>\n",
       "      <td>This is a lock-off guest unit in the lower lev...</td>\n",
       "      <td>Enjoy your privacy in this spacious and luxuri...</td>\n",
       "      <td>none</td>\n",
       "      <td>We are located in a 5-minute walk to downtown ...</td>\n",
       "      <td>...</td>\n",
       "      <td>f</td>\n",
       "      <td>f</td>\n",
       "      <td>moderate</td>\n",
       "      <td>t</td>\n",
       "      <td>t</td>\n",
       "      <td>3</td>\n",
       "      <td>1</td>\n",
       "      <td>2</td>\n",
       "      <td>0</td>\n",
       "      <td>0.11</td>\n",
       "    </tr>\n",
       "    <tr>\n",
       "      <th>3</th>\n",
       "      <td>21373</td>\n",
       "      <td>https://www.airbnb.com/rooms/21373</td>\n",
       "      <td>20191107231003</td>\n",
       "      <td>2019-11-07</td>\n",
       "      <td>Bonsai Garden Inn in Professorville</td>\n",
       "      <td>Room  in gracious home with beautiful garden. ...</td>\n",
       "      <td>Bright, garden-facing room in beautiful home. ...</td>\n",
       "      <td>Room  in gracious home with beautiful garden. ...</td>\n",
       "      <td>none</td>\n",
       "      <td>This room is in an ultra convenient location i...</td>\n",
       "      <td>...</td>\n",
       "      <td>f</td>\n",
       "      <td>f</td>\n",
       "      <td>moderate</td>\n",
       "      <td>f</td>\n",
       "      <td>f</td>\n",
       "      <td>5</td>\n",
       "      <td>0</td>\n",
       "      <td>5</td>\n",
       "      <td>0</td>\n",
       "      <td>2.16</td>\n",
       "    </tr>\n",
       "    <tr>\n",
       "      <th>4</th>\n",
       "      <td>23732</td>\n",
       "      <td>https://www.airbnb.com/rooms/23732</td>\n",
       "      <td>20191107231003</td>\n",
       "      <td>2019-11-07</td>\n",
       "      <td>Heart of Silicon Valley bdrm &amp; bath</td>\n",
       "      <td>NaN</td>\n",
       "      <td>You'll have the room to yourself as well as a ...</td>\n",
       "      <td>You'll have the room to yourself as well as a ...</td>\n",
       "      <td>none</td>\n",
       "      <td>NaN</td>\n",
       "      <td>...</td>\n",
       "      <td>f</td>\n",
       "      <td>f</td>\n",
       "      <td>moderate</td>\n",
       "      <td>f</td>\n",
       "      <td>f</td>\n",
       "      <td>1</td>\n",
       "      <td>0</td>\n",
       "      <td>1</td>\n",
       "      <td>0</td>\n",
       "      <td>0.03</td>\n",
       "    </tr>\n",
       "  </tbody>\n",
       "</table>\n",
       "<p>5 rows × 106 columns</p>\n",
       "</div>"
      ],
      "text/plain": [
       "      id                         listing_url       scrape_id last_scraped  \\\n",
       "0   4952   https://www.airbnb.com/rooms/4952  20191107231003   2019-11-07   \n",
       "1  11464  https://www.airbnb.com/rooms/11464  20191107231003   2019-11-08   \n",
       "2  19181  https://www.airbnb.com/rooms/19181  20191107231003   2019-11-08   \n",
       "3  21373  https://www.airbnb.com/rooms/21373  20191107231003   2019-11-07   \n",
       "4  23732  https://www.airbnb.com/rooms/23732  20191107231003   2019-11-07   \n",
       "\n",
       "                                                name  \\\n",
       "0                  Butterfly Inn - Graceful Living !   \n",
       "1                  Deluxe Private Studio-custom int.   \n",
       "2  Majestic Room #1 with Sauna and Large Family Room   \n",
       "3                Bonsai Garden Inn in Professorville   \n",
       "4                Heart of Silicon Valley bdrm & bath   \n",
       "\n",
       "                                             summary  \\\n",
       "0  Lovely garden setting in a serene and art-fill...   \n",
       "1  Custom built Studio with exquisite design. Per...   \n",
       "2  Enjoy your privacy in this spacious and luxuri...   \n",
       "3  Room  in gracious home with beautiful garden. ...   \n",
       "4                                                NaN   \n",
       "\n",
       "                                               space  \\\n",
       "0  Very comfortable Queen bed and small desk in b...   \n",
       "1  Description A favorite for international corpo...   \n",
       "2  This is a lock-off guest unit in the lower lev...   \n",
       "3  Bright, garden-facing room in beautiful home. ...   \n",
       "4  You'll have the room to yourself as well as a ...   \n",
       "\n",
       "                                         description experiences_offered  \\\n",
       "0  Lovely garden setting in a serene and art-fill...                none   \n",
       "1  Custom built Studio with exquisite design. Per...                none   \n",
       "2  Enjoy your privacy in this spacious and luxuri...                none   \n",
       "3  Room  in gracious home with beautiful garden. ...                none   \n",
       "4  You'll have the room to yourself as well as a ...                none   \n",
       "\n",
       "                               neighborhood_overview  ... instant_bookable  \\\n",
       "0  Located in Professorville, Palo Alto, one of t...  ...                f   \n",
       "1  10 min. to Lucky's and Starbucks at El Camino ...  ...                t   \n",
       "2  We are located in a 5-minute walk to downtown ...  ...                f   \n",
       "3  This room is in an ultra convenient location i...  ...                f   \n",
       "4                                                NaN  ...                f   \n",
       "\n",
       "  is_business_travel_ready cancellation_policy require_guest_profile_picture  \\\n",
       "0                        f            moderate                             f   \n",
       "1                        f            moderate                             f   \n",
       "2                        f            moderate                             t   \n",
       "3                        f            moderate                             f   \n",
       "4                        f            moderate                             f   \n",
       "\n",
       "  require_guest_phone_verification  calculated_host_listings_count  \\\n",
       "0                                f                               5   \n",
       "1                                t                              15   \n",
       "2                                t                               3   \n",
       "3                                f                               5   \n",
       "4                                f                               1   \n",
       "\n",
       "   calculated_host_listings_count_entire_homes  \\\n",
       "0                                            0   \n",
       "1                                           15   \n",
       "2                                            1   \n",
       "3                                            0   \n",
       "4                                            0   \n",
       "\n",
       "  calculated_host_listings_count_private_rooms  \\\n",
       "0                                            5   \n",
       "1                                            0   \n",
       "2                                            2   \n",
       "3                                            5   \n",
       "4                                            1   \n",
       "\n",
       "   calculated_host_listings_count_shared_rooms  reviews_per_month  \n",
       "0                                            0               0.60  \n",
       "1                                            0               0.09  \n",
       "2                                            0               0.11  \n",
       "3                                            0               2.16  \n",
       "4                                            0               0.03  \n",
       "\n",
       "[5 rows x 106 columns]"
      ]
     },
     "execution_count": 7,
     "metadata": {},
     "output_type": "execute_result"
    }
   ],
   "source": [
    "df.head()"
   ]
  },
  {
   "cell_type": "code",
   "execution_count": 8,
   "metadata": {
    "ExecuteTime": {
     "end_time": "2020-02-15T09:05:51.274898Z",
     "start_time": "2020-02-15T09:05:51.246048Z"
    },
    "code_folding": [],
    "run_control": {
     "marked": true
    }
   },
   "outputs": [
    {
     "data": {
      "text/plain": [
       "review_scores_value             0.187386\n",
       "jurisdiction_names              0.191564\n",
       "security_deposit                0.205145\n",
       "space                           0.247323\n",
       "host_about                      0.328415\n",
       "house_rules                     0.333377\n",
       "neighborhood_overview           0.378036\n",
       "interaction                     0.409376\n",
       "access                          0.414991\n",
       "transit                         0.423087\n",
       "notes                           0.487595\n",
       "monthly_price                   0.910943\n",
       "weekly_price                    0.916166\n",
       "square_feet                     0.995952\n",
       "thumbnail_url                   1.000000\n",
       "license                         1.000000\n",
       "medium_url                      1.000000\n",
       "neighbourhood_group_cleansed    1.000000\n",
       "host_acceptance_rate            1.000000\n",
       "xl_picture_url                  1.000000\n",
       "dtype: float64"
      ]
     },
     "execution_count": 8,
     "metadata": {},
     "output_type": "execute_result"
    }
   ],
   "source": [
    "# Columns with the most missing values\n",
    "df.isna().mean().sort_values().tail(20)"
   ]
  },
  {
   "cell_type": "code",
   "execution_count": 9,
   "metadata": {
    "ExecuteTime": {
     "end_time": "2020-02-15T09:05:51.284084Z",
     "start_time": "2020-02-15T09:05:51.276769Z"
    },
    "run_control": {
     "marked": true
    }
   },
   "outputs": [
    {
     "data": {
      "text/plain": [
       "review_scores_rating           0.186994\n",
       "review_scores_accuracy         0.187125\n",
       "review_scores_cleanliness      0.187125\n",
       "review_scores_checkin          0.187386\n",
       "review_scores_communication    0.187255\n",
       "review_scores_location         0.187255\n",
       "review_scores_value            0.187386\n",
       "dtype: float64"
      ]
     },
     "execution_count": 9,
     "metadata": {},
     "output_type": "execute_result"
    }
   ],
   "source": [
    "# Columns contain keywords \"review\"\n",
    "df.filter(like=\"score\", axis=1).isna().mean()"
   ]
  },
  {
   "cell_type": "code",
   "execution_count": 10,
   "metadata": {
    "ExecuteTime": {
     "end_time": "2020-02-15T09:05:51.307626Z",
     "start_time": "2020-02-15T09:05:51.285523Z"
    },
    "run_control": {
     "marked": true
    }
   },
   "outputs": [
    {
     "data": {
      "text/plain": [
       "Index(['id', 'scrape_id', 'thumbnail_url', 'medium_url', 'xl_picture_url',\n",
       "       'host_id', 'host_acceptance_rate', 'host_listings_count',\n",
       "       'host_total_listings_count', 'neighbourhood_group_cleansed', 'latitude',\n",
       "       'longitude', 'accommodates', 'bathrooms', 'bedrooms', 'beds',\n",
       "       'square_feet', 'guests_included', 'minimum_nights', 'maximum_nights',\n",
       "       'minimum_minimum_nights', 'maximum_minimum_nights',\n",
       "       'minimum_maximum_nights', 'maximum_maximum_nights',\n",
       "       'minimum_nights_avg_ntm', 'maximum_nights_avg_ntm', 'availability_30',\n",
       "       'availability_60', 'availability_90', 'availability_365',\n",
       "       'number_of_reviews', 'number_of_reviews_ltm', 'review_scores_rating',\n",
       "       'review_scores_accuracy', 'review_scores_cleanliness',\n",
       "       'review_scores_checkin', 'review_scores_communication',\n",
       "       'review_scores_location', 'review_scores_value', 'license',\n",
       "       'calculated_host_listings_count',\n",
       "       'calculated_host_listings_count_entire_homes',\n",
       "       'calculated_host_listings_count_private_rooms',\n",
       "       'calculated_host_listings_count_shared_rooms', 'reviews_per_month'],\n",
       "      dtype='object')"
      ]
     },
     "execution_count": 10,
     "metadata": {},
     "output_type": "execute_result"
    }
   ],
   "source": [
    "# Numerical columns\n",
    "df.select_dtypes(exclude=\"object\").columns"
   ]
  },
  {
   "cell_type": "code",
   "execution_count": 11,
   "metadata": {
    "ExecuteTime": {
     "end_time": "2020-02-15T09:05:51.339194Z",
     "start_time": "2020-02-15T09:05:51.309431Z"
    },
    "run_control": {
     "marked": true
    },
    "scrolled": true
   },
   "outputs": [
    {
     "data": {
      "text/plain": [
       "Index(['listing_url', 'last_scraped', 'name', 'summary', 'space',\n",
       "       'description', 'experiences_offered', 'neighborhood_overview', 'notes',\n",
       "       'transit', 'access', 'interaction', 'house_rules', 'picture_url',\n",
       "       'host_url', 'host_name', 'host_since', 'host_location', 'host_about',\n",
       "       'host_response_time', 'host_response_rate', 'host_is_superhost',\n",
       "       'host_thumbnail_url', 'host_picture_url', 'host_neighbourhood',\n",
       "       'host_verifications', 'host_has_profile_pic', 'host_identity_verified',\n",
       "       'street', 'neighbourhood', 'neighbourhood_cleansed', 'city', 'state',\n",
       "       'zipcode', 'market', 'smart_location', 'country_code', 'country',\n",
       "       'is_location_exact', 'property_type', 'room_type', 'bed_type',\n",
       "       'amenities', 'price', 'weekly_price', 'monthly_price',\n",
       "       'security_deposit', 'cleaning_fee', 'extra_people', 'calendar_updated',\n",
       "       'has_availability', 'calendar_last_scraped', 'first_review',\n",
       "       'last_review', 'requires_license', 'jurisdiction_names',\n",
       "       'instant_bookable', 'is_business_travel_ready', 'cancellation_policy',\n",
       "       'require_guest_profile_picture', 'require_guest_phone_verification'],\n",
       "      dtype='object')"
      ]
     },
     "execution_count": 11,
     "metadata": {},
     "output_type": "execute_result"
    }
   ],
   "source": [
    "# Str columns\n",
    "df.select_dtypes(include=\"object\").columns"
   ]
  },
  {
   "cell_type": "markdown",
   "metadata": {},
   "source": [
    "## Clean up price data"
   ]
  },
  {
   "cell_type": "code",
   "execution_count": 12,
   "metadata": {
    "ExecuteTime": {
     "end_time": "2020-02-15T09:05:51.345588Z",
     "start_time": "2020-02-15T09:05:51.340751Z"
    },
    "run_control": {
     "marked": true
    }
   },
   "outputs": [
    {
     "data": {
      "text/plain": [
       "0     $90.00\n",
       "1     $85.00\n",
       "2    $100.00\n",
       "3     $99.00\n",
       "4    $299.00\n",
       "Name: price, dtype: object"
      ]
     },
     "execution_count": 12,
     "metadata": {},
     "output_type": "execute_result"
    }
   ],
   "source": [
    "df[\"price\"].head()"
   ]
  },
  {
   "cell_type": "markdown",
   "metadata": {},
   "source": [
    "We need to convert the 'price' column from string to numerical type"
   ]
  },
  {
   "cell_type": "code",
   "execution_count": 13,
   "metadata": {
    "ExecuteTime": {
     "end_time": "2020-02-15T09:05:51.373706Z",
     "start_time": "2020-02-15T09:05:51.347038Z"
    },
    "run_control": {
     "marked": true
    }
   },
   "outputs": [],
   "source": [
    "df[\"price\"] = df[\"price\"].replace(\"[^.0-9]\", \"\", regex=True).astype(float)"
   ]
  },
  {
   "cell_type": "markdown",
   "metadata": {},
   "source": [
    "## Clean up location data\n",
    "We are interested in analyzing listing trend by locations (city/zipcode), so let's exam if we have clean location location data"
   ]
  },
  {
   "cell_type": "code",
   "execution_count": 14,
   "metadata": {
    "ExecuteTime": {
     "end_time": "2020-02-15T09:05:51.383228Z",
     "start_time": "2020-02-15T09:05:51.375363Z"
    },
    "run_control": {
     "marked": true
    }
   },
   "outputs": [
    {
     "data": {
      "text/plain": [
       "city          19\n",
       "zipcode      395\n",
       "latitude       0\n",
       "longitude      0\n",
       "dtype: int64"
      ]
     },
     "execution_count": 14,
     "metadata": {},
     "output_type": "execute_result"
    }
   ],
   "source": [
    "# check if there are missing values in the location columns\n",
    "df[[\"city\", \"zipcode\", \"latitude\", \"longitude\"]].isna().sum()"
   ]
  },
  {
   "cell_type": "markdown",
   "metadata": {},
   "source": [
    "### Dealing with missing data\n",
    "\n",
    "There are missing data in `city` and `zipcode` columns. However, we have the coordinates for all the listings. We can use the `uszipcode` python package to generate the missing data in `city` and `column` later"
   ]
  },
  {
   "cell_type": "code",
   "execution_count": 15,
   "metadata": {
    "ExecuteTime": {
     "end_time": "2020-02-15T09:05:51.391316Z",
     "start_time": "2020-02-15T09:05:51.384712Z"
    },
    "run_control": {
     "marked": true
    }
   },
   "outputs": [
    {
     "data": {
      "text/plain": [
       "San Jose              3165\n",
       "Palo Alto              833\n",
       "Mountain View          820\n",
       "Sunnyvale              816\n",
       "Santa Clara            703\n",
       "Cupertino              335\n",
       "Milpitas               306\n",
       "Campbell               130\n",
       "Los Gatos              128\n",
       "Los Altos               94\n",
       "Saratoga                85\n",
       "Morgan Hill             59\n",
       "Los Altos Hills         54\n",
       "Gilroy                  37\n",
       "Monte Sereno            19\n",
       "San Martin              16\n",
       "Menlo Park               6\n",
       "Palo Alto                6\n",
       "Stanford                 5\n",
       "San Jose                 4\n",
       "Sunnyvale                2\n",
       "Hollister                2\n",
       "洛斯阿尔托斯                   1\n",
       "Santa Clara County       1\n",
       "Mountain View            1\n",
       "los Altos                1\n",
       "帕洛阿尔托                    1\n",
       "Danville                 1\n",
       "santa clara              1\n",
       "East Palo Alto           1\n",
       "Campbell                 1\n",
       "Milpitas                 1\n",
       "San Francisco            1\n",
       "san jose                 1\n",
       "Los Gatos                1\n",
       "Sanjose                  1\n",
       "Name: city, dtype: int64"
      ]
     },
     "execution_count": 15,
     "metadata": {},
     "output_type": "execute_result"
    }
   ],
   "source": [
    "# check if the city data is clean\n",
    "df[\"city\"].value_counts()"
   ]
  },
  {
   "cell_type": "markdown",
   "metadata": {},
   "source": [
    "The `city` data column needs to be cleaned up if we want to use it as a catagorical variable. \n",
    "- capitalization error: san jose ->\n",
    "- foreign language: 帕洛阿尔托 -> Palo Alto"
   ]
  },
  {
   "cell_type": "code",
   "execution_count": 16,
   "metadata": {
    "ExecuteTime": {
     "end_time": "2020-02-15T09:05:51.400134Z",
     "start_time": "2020-02-15T09:05:51.392799Z"
    },
    "run_control": {
     "marked": true
    }
   },
   "outputs": [
    {
     "data": {
      "text/plain": [
       "94306       369\n",
       "95112       344\n",
       "95014       307\n",
       "95035       305\n",
       "94043       291\n",
       "           ... \n",
       "CA 95134      1\n",
       "94526         1\n",
       "94028         1\n",
       "94115         1\n",
       "95009         1\n",
       "Name: zipcode, Length: 72, dtype: int64"
      ]
     },
     "execution_count": 16,
     "metadata": {},
     "output_type": "execute_result"
    }
   ],
   "source": [
    "# check if the zipcode column is clean\n",
    "\n",
    "df[\"zipcode\"].value_counts()"
   ]
  },
  {
   "cell_type": "markdown",
   "metadata": {},
   "source": [
    "In addition to the problem of having 395 missing values, the `zipcode` column also contain data with inconsistent format:\n",
    "- multiple zipcode `9503\\n9503\\n95035`\n",
    "- more than 5 digits `95032-4635`"
   ]
  },
  {
   "cell_type": "markdown",
   "metadata": {},
   "source": [
    "Since the map coordinates data are available for all the listings/rows in the dataframe, we can easily fill in the missing data and clean up the data in the `city` and `zipcode` columns with the `uszipcode` package "
   ]
  },
  {
   "cell_type": "code",
   "execution_count": 17,
   "metadata": {
    "ExecuteTime": {
     "end_time": "2020-02-15T09:06:09.051517Z",
     "start_time": "2020-02-15T09:05:51.401679Z"
    },
    "run_control": {
     "marked": true
    }
   },
   "outputs": [],
   "source": [
    "# use uszipcode package to get zipcode and city info from coordinates\n",
    "search = SearchEngine(simple_zipcode=True)\n",
    "\n",
    "city_list = []\n",
    "zipcode_list = []\n",
    "\n",
    "# Loop throuh each row, and get updated city/zipcode info based on listing coordinates\n",
    "for lat, lng in zip(df[\"latitude\"], df[\"longitude\"]):\n",
    "    res = search.by_coordinates(lat=lat, lng=lng, radius=10, returns=1)[0]\n",
    "    city = res.major_city\n",
    "    zipcode = res.zipcode\n",
    "\n",
    "    city_list.append(city)\n",
    "    zipcode_list.append(zipcode)\n",
    "\n",
    "# add new_city and new_zipcode columns to the df for later use\n",
    "df[\"new_city\"] = city_list\n",
    "df[\"new_zipcode\"] = zipcode_list"
   ]
  },
  {
   "cell_type": "markdown",
   "metadata": {},
   "source": [
    "# Analyses and Visualizations"
   ]
  },
  {
   "cell_type": "markdown",
   "metadata": {},
   "source": [
    "## All Listings"
   ]
  },
  {
   "cell_type": "code",
   "execution_count": 18,
   "metadata": {
    "ExecuteTime": {
     "end_time": "2020-02-15T09:06:11.129962Z",
     "start_time": "2020-02-15T09:06:09.052742Z"
    },
    "run_control": {
     "marked": true
    }
   },
   "outputs": [
    {
     "ename": "ShapefileException",
     "evalue": "Unable to open data/countyl010g_shp_nt00964/countyl010g.dbf or data/countyl010g_shp_nt00964/countyl010g.shp.",
     "output_type": "error",
     "traceback": [
      "\u001b[0;31m---------------------------------------------------------------------------\u001b[0m",
      "\u001b[0;31mShapefileException\u001b[0m                        Traceback (most recent call last)",
      "\u001b[0;32m<ipython-input-18-503db36b279f>\u001b[0m in \u001b[0;36m<module>\u001b[0;34m\u001b[0m\n\u001b[1;32m      3\u001b[0m \u001b[0;34m\u001b[0m\u001b[0m\n\u001b[1;32m      4\u001b[0m \u001b[0mfname\u001b[0m \u001b[0;34m=\u001b[0m \u001b[0;34m\"data/countyl010g_shp_nt00964/countyl010g.shp\"\u001b[0m\u001b[0;34m\u001b[0m\u001b[0;34m\u001b[0m\u001b[0m\n\u001b[0;32m----> 5\u001b[0;31m \u001b[0mreader\u001b[0m \u001b[0;34m=\u001b[0m \u001b[0mshpreader\u001b[0m\u001b[0;34m.\u001b[0m\u001b[0mReader\u001b[0m\u001b[0;34m(\u001b[0m\u001b[0mfname\u001b[0m\u001b[0;34m)\u001b[0m\u001b[0;34m\u001b[0m\u001b[0;34m\u001b[0m\u001b[0m\n\u001b[0m\u001b[1;32m      6\u001b[0m \u001b[0mcounties\u001b[0m \u001b[0;34m=\u001b[0m \u001b[0mlist\u001b[0m\u001b[0;34m(\u001b[0m\u001b[0mreader\u001b[0m\u001b[0;34m.\u001b[0m\u001b[0mgeometries\u001b[0m\u001b[0;34m(\u001b[0m\u001b[0;34m)\u001b[0m\u001b[0;34m)\u001b[0m\u001b[0;34m\u001b[0m\u001b[0;34m\u001b[0m\u001b[0m\n\u001b[1;32m      7\u001b[0m \u001b[0mCOUNTIES\u001b[0m \u001b[0;34m=\u001b[0m \u001b[0mcfeature\u001b[0m\u001b[0;34m.\u001b[0m\u001b[0mShapelyFeature\u001b[0m\u001b[0;34m(\u001b[0m\u001b[0mcounties\u001b[0m\u001b[0;34m,\u001b[0m \u001b[0mccrs\u001b[0m\u001b[0;34m.\u001b[0m\u001b[0mPlateCarree\u001b[0m\u001b[0;34m(\u001b[0m\u001b[0;34m)\u001b[0m\u001b[0;34m)\u001b[0m\u001b[0;34m\u001b[0m\u001b[0;34m\u001b[0m\u001b[0m\n",
      "\u001b[0;32m~/anaconda3/lib/python3.7/site-packages/cartopy/io/shapereader.py\u001b[0m in \u001b[0;36m__init__\u001b[0;34m(self, filename)\u001b[0m\n\u001b[1;32m    204\u001b[0m     \u001b[0;32mdef\u001b[0m \u001b[0m__init__\u001b[0m\u001b[0;34m(\u001b[0m\u001b[0mself\u001b[0m\u001b[0;34m,\u001b[0m \u001b[0mfilename\u001b[0m\u001b[0;34m)\u001b[0m\u001b[0;34m:\u001b[0m\u001b[0;34m\u001b[0m\u001b[0;34m\u001b[0m\u001b[0m\n\u001b[1;32m    205\u001b[0m         \u001b[0;31m# Validate the filename/shapefile\u001b[0m\u001b[0;34m\u001b[0m\u001b[0;34m\u001b[0m\u001b[0;34m\u001b[0m\u001b[0m\n\u001b[0;32m--> 206\u001b[0;31m         \u001b[0mself\u001b[0m\u001b[0;34m.\u001b[0m\u001b[0m_reader\u001b[0m \u001b[0;34m=\u001b[0m \u001b[0mreader\u001b[0m \u001b[0;34m=\u001b[0m \u001b[0mshapefile\u001b[0m\u001b[0;34m.\u001b[0m\u001b[0mReader\u001b[0m\u001b[0;34m(\u001b[0m\u001b[0mfilename\u001b[0m\u001b[0;34m)\u001b[0m\u001b[0;34m\u001b[0m\u001b[0;34m\u001b[0m\u001b[0m\n\u001b[0m\u001b[1;32m    207\u001b[0m         \u001b[0;32mif\u001b[0m \u001b[0mreader\u001b[0m\u001b[0;34m.\u001b[0m\u001b[0mshp\u001b[0m \u001b[0;32mis\u001b[0m \u001b[0;32mNone\u001b[0m \u001b[0;32mor\u001b[0m \u001b[0mreader\u001b[0m\u001b[0;34m.\u001b[0m\u001b[0mshx\u001b[0m \u001b[0;32mis\u001b[0m \u001b[0;32mNone\u001b[0m \u001b[0;32mor\u001b[0m \u001b[0mreader\u001b[0m\u001b[0;34m.\u001b[0m\u001b[0mdbf\u001b[0m \u001b[0;32mis\u001b[0m \u001b[0;32mNone\u001b[0m\u001b[0;34m:\u001b[0m\u001b[0;34m\u001b[0m\u001b[0;34m\u001b[0m\u001b[0m\n\u001b[1;32m    208\u001b[0m             raise ValueError(\"Incomplete shapefile definition \"\n",
      "\u001b[0;32m~/anaconda3/lib/python3.7/site-packages/shapefile.py\u001b[0m in \u001b[0;36m__init__\u001b[0;34m(self, *args, **kwargs)\u001b[0m\n\u001b[1;32m    551\u001b[0m         \u001b[0;32mif\u001b[0m \u001b[0mlen\u001b[0m\u001b[0;34m(\u001b[0m\u001b[0margs\u001b[0m\u001b[0;34m)\u001b[0m \u001b[0;34m>\u001b[0m \u001b[0;36m0\u001b[0m\u001b[0;34m:\u001b[0m\u001b[0;34m\u001b[0m\u001b[0;34m\u001b[0m\u001b[0m\n\u001b[1;32m    552\u001b[0m             \u001b[0;32mif\u001b[0m \u001b[0mis_string\u001b[0m\u001b[0;34m(\u001b[0m\u001b[0margs\u001b[0m\u001b[0;34m[\u001b[0m\u001b[0;36m0\u001b[0m\u001b[0;34m]\u001b[0m\u001b[0;34m)\u001b[0m\u001b[0;34m:\u001b[0m\u001b[0;34m\u001b[0m\u001b[0;34m\u001b[0m\u001b[0m\n\u001b[0;32m--> 553\u001b[0;31m                 \u001b[0mself\u001b[0m\u001b[0;34m.\u001b[0m\u001b[0mload\u001b[0m\u001b[0;34m(\u001b[0m\u001b[0margs\u001b[0m\u001b[0;34m[\u001b[0m\u001b[0;36m0\u001b[0m\u001b[0;34m]\u001b[0m\u001b[0;34m)\u001b[0m\u001b[0;34m\u001b[0m\u001b[0;34m\u001b[0m\u001b[0m\n\u001b[0m\u001b[1;32m    554\u001b[0m                 \u001b[0;32mreturn\u001b[0m\u001b[0;34m\u001b[0m\u001b[0;34m\u001b[0m\u001b[0m\n\u001b[1;32m    555\u001b[0m         \u001b[0;32mif\u001b[0m \u001b[0;34m\"shp\"\u001b[0m \u001b[0;32min\u001b[0m \u001b[0mkwargs\u001b[0m\u001b[0;34m.\u001b[0m\u001b[0mkeys\u001b[0m\u001b[0;34m(\u001b[0m\u001b[0;34m)\u001b[0m\u001b[0;34m:\u001b[0m\u001b[0;34m\u001b[0m\u001b[0;34m\u001b[0m\u001b[0m\n",
      "\u001b[0;32m~/anaconda3/lib/python3.7/site-packages/shapefile.py\u001b[0m in \u001b[0;36mload\u001b[0;34m(self, shapefile)\u001b[0m\n\u001b[1;32m    644\u001b[0m             \u001b[0mself\u001b[0m\u001b[0;34m.\u001b[0m\u001b[0mload_dbf\u001b[0m\u001b[0;34m(\u001b[0m\u001b[0mshapeName\u001b[0m\u001b[0;34m)\u001b[0m\u001b[0;34m\u001b[0m\u001b[0;34m\u001b[0m\u001b[0m\n\u001b[1;32m    645\u001b[0m             \u001b[0;32mif\u001b[0m \u001b[0;32mnot\u001b[0m \u001b[0;34m(\u001b[0m\u001b[0mself\u001b[0m\u001b[0;34m.\u001b[0m\u001b[0mshp\u001b[0m \u001b[0;32mor\u001b[0m \u001b[0mself\u001b[0m\u001b[0;34m.\u001b[0m\u001b[0mdbf\u001b[0m\u001b[0;34m)\u001b[0m\u001b[0;34m:\u001b[0m\u001b[0;34m\u001b[0m\u001b[0;34m\u001b[0m\u001b[0m\n\u001b[0;32m--> 646\u001b[0;31m                 \u001b[0;32mraise\u001b[0m \u001b[0mShapefileException\u001b[0m\u001b[0;34m(\u001b[0m\u001b[0;34m\"Unable to open %s.dbf or %s.shp.\"\u001b[0m \u001b[0;34m%\u001b[0m \u001b[0;34m(\u001b[0m\u001b[0mshapeName\u001b[0m\u001b[0;34m,\u001b[0m \u001b[0mshapeName\u001b[0m\u001b[0;34m)\u001b[0m\u001b[0;34m)\u001b[0m\u001b[0;34m\u001b[0m\u001b[0;34m\u001b[0m\u001b[0m\n\u001b[0m\u001b[1;32m    647\u001b[0m         \u001b[0;32mif\u001b[0m \u001b[0mself\u001b[0m\u001b[0;34m.\u001b[0m\u001b[0mshp\u001b[0m\u001b[0;34m:\u001b[0m\u001b[0;34m\u001b[0m\u001b[0;34m\u001b[0m\u001b[0m\n\u001b[1;32m    648\u001b[0m             \u001b[0mself\u001b[0m\u001b[0;34m.\u001b[0m\u001b[0m__shpHeader\u001b[0m\u001b[0;34m(\u001b[0m\u001b[0;34m)\u001b[0m\u001b[0;34m\u001b[0m\u001b[0;34m\u001b[0m\u001b[0m\n",
      "\u001b[0;31mShapefileException\u001b[0m: Unable to open data/countyl010g_shp_nt00964/countyl010g.dbf or data/countyl010g_shp_nt00964/countyl010g.shp."
     ]
    }
   ],
   "source": [
    "# shape file with US county info\n",
    "# https://catalog.data.gov/dataset/tiger-line-shapefile-2017-nation-u-s-current-county-and-equivalent-national-shapefile\n",
    "\n",
    "fname = \"data/countyl010g_shp_nt00964/countyl010g.shp\"\n",
    "reader = shpreader.Reader(fname)\n",
    "counties = list(reader.geometries())\n",
    "COUNTIES = cfeature.ShapelyFeature(counties, ccrs.PlateCarree())\n",
    "\n",
    "# draw a map with US county lines\n",
    "plt.figure(figsize=(9, 6))\n",
    "ax = plt.axes(projection=ccrs.PlateCarree())\n",
    "ax.add_feature(cfeature.OCEAN.with_scale(\"10m\"))\n",
    "ax.add_feature(cfeature.LAKES.with_scale(\"10m\"))\n",
    "ax.add_feature(COUNTIES, facecolor=\"None\", edgecolor=\"gray\")\n",
    "\n",
    "# zoom-in to the Santa Clara County\n",
    "BBox = [\n",
    "    df.longitude.min() - 0.1,\n",
    "    df.longitude.max() + 0.1,\n",
    "    df.latitude.min() - 0.1,\n",
    "    df.latitude.max() + 0.1,\n",
    "]\n",
    "ax.set_extent(BBox)\n",
    "\n",
    "# Set colors for different cities within Santa Clara County\n",
    "cities = df[\"new_city\"].unique()\n",
    "colors = [plt.cm.tab20(i / float(len(cities) - 1)) for i in range(len(cities))]\n",
    "\n",
    "for i, city in enumerate(cities):\n",
    "    plt.scatter(\n",
    "        \"longitude\",\n",
    "        \"latitude\",\n",
    "        data=df.loc[df.new_city == city, :],\n",
    "        c=np.array(list(colors[i])),\n",
    "        label=str(city),\n",
    "        edgecolors=\"None\",\n",
    "        linewidths=0.2,\n",
    "        alpha=0.3,\n",
    "    )\n",
    "\n",
    "\n",
    "# Add text anotation for all the cities\n",
    "style = dict(size=9, color=\"black\")\n",
    "lat = df.groupby(\"new_city\").mean()[\"latitude\"]\n",
    "lon = df.groupby(\"new_city\").mean()[\"longitude\"]\n",
    "cities = lat.index.to_list()\n",
    "\n",
    "# Add text anotation for Santa Clara County\n",
    "ax.text(\n",
    "    df[\"longitude\"].mean() + 0.3,\n",
    "    df[\"latitude\"].mean(),\n",
    "    \"Santa Clara County\",\n",
    "    fontsize=16,\n",
    "    fontweight=\"bold\",\n",
    ")\n",
    "\n",
    "\n",
    "for i, j, k in zip(lon, lat, cities):\n",
    "    ax.text(i, j, k, **style, va=\"bottom\", ha=\"left\")\n",
    "\n",
    "plt.savefig(\"image/map.png\", dpi=200, bbox_inches=\"tight\", pad_inches=0.1)"
   ]
  },
  {
   "cell_type": "markdown",
   "metadata": {},
   "source": [
    "## Room Types"
   ]
  },
  {
   "cell_type": "markdown",
   "metadata": {},
   "source": [
    "### Map: Room Type by Location"
   ]
  },
  {
   "cell_type": "code",
   "execution_count": null,
   "metadata": {
    "ExecuteTime": {
     "end_time": "2020-02-15T09:06:11.143841Z",
     "start_time": "2020-02-15T09:06:11.135473Z"
    },
    "run_control": {
     "marked": true
    }
   },
   "outputs": [],
   "source": [
    "df.room_type.value_counts()"
   ]
  },
  {
   "cell_type": "code",
   "execution_count": null,
   "metadata": {
    "ExecuteTime": {
     "end_time": "2020-02-15T09:06:11.150300Z",
     "start_time": "2020-02-15T09:06:11.145994Z"
    },
    "run_control": {
     "marked": true
    }
   },
   "outputs": [],
   "source": [
    "colors"
   ]
  },
  {
   "cell_type": "code",
   "execution_count": null,
   "metadata": {
    "ExecuteTime": {
     "end_time": "2020-02-15T09:06:11.898132Z",
     "start_time": "2020-02-15T09:06:11.151698Z"
    },
    "run_control": {
     "marked": true
    }
   },
   "outputs": [],
   "source": [
    "# draw a map with US county lines\n",
    "plt.figure(figsize=(18, 8))\n",
    "ax = plt.axes(projection=ccrs.PlateCarree())\n",
    "ax.add_feature(cfeature.OCEAN.with_scale(\"10m\"))\n",
    "ax.add_feature(cfeature.LAKES.with_scale(\"10m\"))\n",
    "ax.add_feature(COUNTIES, facecolor=\"None\", edgecolor=\"gray\")\n",
    "\n",
    "ax.set_extent(BBox)\n",
    "\n",
    "# Set colors for different cities within Santa Clara County\n",
    "room_types = df[\"room_type\"].unique()\n",
    "colors = [\n",
    "    plt.cm.viridis(i / float(len(room_types) - 1)) for i in range(len(room_types))\n",
    "]\n",
    "\n",
    "for i, room_type in enumerate(room_types):\n",
    "    plt.scatter(\n",
    "        \"longitude\",\n",
    "        \"latitude\",\n",
    "        data=df.loc[df.room_type == room_type, :],\n",
    "        c=colors[i],\n",
    "        label=str(room_type),\n",
    "        edgecolors=\"None\",\n",
    "        linewidths=0.2,\n",
    "        alpha=0.3,\n",
    "    )\n",
    "\n",
    "\n",
    "ax.legend()\n",
    "plt.title(\"Santa Clara County Airbnb Listings by Room Type\")"
   ]
  },
  {
   "cell_type": "markdown",
   "metadata": {},
   "source": [
    "### Pie Chart: Room Types"
   ]
  },
  {
   "cell_type": "code",
   "execution_count": null,
   "metadata": {
    "ExecuteTime": {
     "end_time": "2020-02-15T09:06:11.907072Z",
     "start_time": "2020-02-15T09:06:11.899428Z"
    },
    "run_control": {
     "marked": true
    }
   },
   "outputs": [],
   "source": [
    "df.groupby(\"room_type\").size().reset_index(name=\"counts\")"
   ]
  },
  {
   "cell_type": "code",
   "execution_count": null,
   "metadata": {
    "ExecuteTime": {
     "end_time": "2020-02-15T09:06:12.098487Z",
     "start_time": "2020-02-15T09:06:11.908704Z"
    },
    "run_control": {
     "marked": true
    }
   },
   "outputs": [],
   "source": [
    "df_type = df.groupby(\"room_type\").size().reset_index(name=\"counts\")\n",
    "\n",
    "# Draw Plot\n",
    "fig, ax = plt.subplots(figsize=(5, 5), subplot_kw=dict(aspect=\"equal\"), dpi=80)\n",
    "\n",
    "data = df_type[\"counts\"]\n",
    "categories = df_type[\"room_type\"]\n",
    "\n",
    "\n",
    "def func(pct, allvals):\n",
    "    absolute = int(pct / 100.0 * np.sum(allvals))\n",
    "    return \"{:.1f}% ({:d} )\".format(pct, absolute)\n",
    "\n",
    "\n",
    "wedges, texts, autotexts = ax.pie(\n",
    "    data,\n",
    "    autopct=lambda pct: func(pct, data),\n",
    "    textprops=dict(color=\"w\"),\n",
    "    colors=plt.cm.Dark2.colors,\n",
    "    startangle=0,\n",
    ")\n",
    "\n",
    "# Decoration\n",
    "ax.legend(\n",
    "    wedges,\n",
    "    categories,\n",
    "    title=\"Listing Types\",\n",
    "    loc=\"center left\",\n",
    "    bbox_to_anchor=(1, 0, 0.5, 1),\n",
    ")\n",
    "plt.setp(autotexts, size=10, weight=700)\n",
    "# ax.set_title(\"Santa Clara County Airbnb Listing Types\")\n",
    "plt.savefig(\"image/room_types.png\", dpi=200,\n",
    "            bbox_inches=\"tight\", pad_inches=0.1)"
   ]
  },
  {
   "cell_type": "markdown",
   "metadata": {},
   "source": [
    "## Average Price and Location"
   ]
  },
  {
   "cell_type": "code",
   "execution_count": null,
   "metadata": {
    "ExecuteTime": {
     "end_time": "2020-02-15T09:06:13.637133Z",
     "start_time": "2020-02-15T09:06:12.099501Z"
    },
    "run_control": {
     "marked": true
    }
   },
   "outputs": [],
   "source": [
    "# Extract the data we're interested in\n",
    "lat = df.groupby(\"new_city\").mean()[\"latitude\"]\n",
    "lon = df.groupby(\"new_city\").mean()[\"longitude\"]\n",
    "avg_price = df.groupby(\"new_city\").mean()[\"price\"]\n",
    "listing_count = df.groupby(\"new_city\").count()[\"latitude\"]\n",
    "cities = lat.index.to_list()\n",
    "\n",
    "# draw a map with US county lines\n",
    "plt.figure(figsize=(16, 8))\n",
    "ax = plt.axes(projection=ccrs.PlateCarree())\n",
    "ax.add_feature(cfeature.OCEAN.with_scale(\"10m\"))\n",
    "ax.add_feature(cfeature.LAKES.with_scale(\"10m\"))\n",
    "ax.add_feature(COUNTIES, facecolor=\"None\", edgecolor=\"gray\")\n",
    "\n",
    "# zoom-in to the Santa Clara County\n",
    "BBox = [\n",
    "    df.longitude.min() - 0.1,\n",
    "    df.longitude.max() + 0.1,\n",
    "    df.latitude.min() - 0.1,\n",
    "    df.latitude.max() + 0.1,\n",
    "]\n",
    "ax.set_extent(BBox)\n",
    "\n",
    "\n",
    "# Scatter the points, using size and color but no label\n",
    "plt.scatter(\n",
    "    lon,\n",
    "    lat,\n",
    "    label=None,\n",
    "    c=avg_price,\n",
    "    cmap=\"RdYlGn\",\n",
    "    s=listing_count,\n",
    "    linewidth=0,\n",
    "    alpha=0.5,\n",
    ")\n",
    "plt.axis(aspect=\"equal\")\n",
    "plt.xlabel(\"longitude\")\n",
    "plt.ylabel(\"latitude\")\n",
    "plt.colorbar(label=\"average listing price\")\n",
    "plt.clim(100, 500)\n",
    "\n",
    "# create a legend:\n",
    "# plot empty lists with the desired size and label\n",
    "for count in [100, 1000, 5000]:\n",
    "    plt.scatter([], [], c=\"k\", alpha=0.3, s=count, label=str(count))\n",
    "plt.legend(scatterpoints=1, frameon=False,\n",
    "           labelspacing=3.5, title=\"# of Listings\")\n",
    "\n",
    "# Add text anotation for all the cities\n",
    "style = dict(size=10, color=\"gray\")\n",
    "\n",
    "for i, j, k in zip(lon, lat, cities):\n",
    "    ax.text(i, j, k, **style, va=\"bottom\", ha=\"left\")\n",
    "\n",
    "# plt.title(\"Santa Clara County Airbnb Listings by City: Count and Price\")\n",
    "plt.savefig(\n",
    "    \"image/counts_by_location.png\", dpi=200, bbox_inches=\"tight\", pad_inches=0.1\n",
    ")"
   ]
  },
  {
   "cell_type": "markdown",
   "metadata": {},
   "source": [
    "### Table: Average Price by Room Type and City"
   ]
  },
  {
   "cell_type": "code",
   "execution_count": null,
   "metadata": {
    "ExecuteTime": {
     "end_time": "2020-02-15T09:06:14.478512Z",
     "start_time": "2020-02-15T09:06:13.638443Z"
    },
    "run_control": {
     "marked": true
    }
   },
   "outputs": [],
   "source": [
    "# create a pivot table for plotting\n",
    "table = pd.pivot_table(\n",
    "    df,\n",
    "    values=\"price\",\n",
    "    index=\"new_city\",\n",
    "    columns=\"room_type\",\n",
    "    aggfunc=\"mean\",\n",
    "    margins=True,\n",
    ")\n",
    "\n",
    "# plot table as heatmap\n",
    "fig, ax = plt.subplots(figsize=(9, 6))\n",
    "ax = sns.heatmap(\n",
    "    table,\n",
    "    annot=True,\n",
    "    fmt=\".1f\",\n",
    "    cmap=\"YlGnBu\",\n",
    "    linewidths=1,\n",
    "    xticklabels=table.columns.to_list(),\n",
    "    yticklabels=table.index.to_list(),\n",
    ")\n",
    "\n",
    "bottom, top = ax.get_ylim()\n",
    "ax.set_ylim(bottom + 0.5, top - 0.5)\n",
    "ax.set_ylabel(\"\")\n",
    "ax.set_xlabel(\"\")\n",
    "ax.set_title(\"Average Price by Room Type and Location\")\n",
    "plt.savefig(\n",
    "    \"image/table:price_by_location.png\", dpi=200, bbox_inches=\"tight\", pad_inches=0.1\n",
    ")"
   ]
  },
  {
   "cell_type": "code",
   "execution_count": null,
   "metadata": {
    "ExecuteTime": {
     "end_time": "2020-02-15T09:06:14.483168Z",
     "start_time": "2020-02-15T09:06:14.479764Z"
    },
    "run_control": {
     "marked": true
    }
   },
   "outputs": [],
   "source": [
    "d1 = table[table[\"All\"] < 160.7].index"
   ]
  },
  {
   "cell_type": "markdown",
   "metadata": {},
   "source": [
    "### Table: Listing Count by Room Type and City"
   ]
  },
  {
   "cell_type": "code",
   "execution_count": null,
   "metadata": {
    "ExecuteTime": {
     "end_time": "2020-02-15T09:06:15.231462Z",
     "start_time": "2020-02-15T09:06:14.485126Z"
    },
    "run_control": {
     "marked": true
    }
   },
   "outputs": [],
   "source": [
    "# create a pivot table for plotting\n",
    "table = pd.pivot_table(\n",
    "    df,\n",
    "    values=\"price\",\n",
    "    index=\"new_city\",\n",
    "    columns=\"room_type\",\n",
    "    aggfunc=\"count\",\n",
    "    margins=True,\n",
    ")\n",
    "\n",
    "# plot table as heatmap\n",
    "fig, ax = plt.subplots(figsize=(9, 6))\n",
    "ax = sns.heatmap(table, annot=True, fmt=\"g\", cmap=\"YlGnBu\", linewidths=1)\n",
    "bottom, top = ax.get_ylim()\n",
    "ax.set_ylim(bottom + 0.5, top - 0.5)\n",
    "ax.set_ylabel(\"\")\n",
    "ax.set_xlabel(\"\")\n",
    "ax.set_title(\"Listing Count by Room Type and Location\",)\n",
    "plt.savefig(\n",
    "    \"image/table:counts_by_location.png\", dpi=200, bbox_inches=\"tight\", pad_inches=0.1\n",
    ")"
   ]
  },
  {
   "cell_type": "markdown",
   "metadata": {},
   "source": [
    "## Review Scores"
   ]
  },
  {
   "cell_type": "markdown",
   "metadata": {},
   "source": [
    "### Table: Average Review Scores by Room Type and City "
   ]
  },
  {
   "cell_type": "code",
   "execution_count": null,
   "metadata": {
    "ExecuteTime": {
     "end_time": "2020-02-15T09:06:15.966894Z",
     "start_time": "2020-02-15T09:06:15.232609Z"
    },
    "run_control": {
     "marked": true
    }
   },
   "outputs": [],
   "source": [
    "# create a pivot table for plotting\n",
    "table = pd.pivot_table(\n",
    "    df,\n",
    "    values=\"review_scores_rating\",\n",
    "    index=\"new_city\",\n",
    "    columns=\"room_type\",\n",
    "    aggfunc=\"mean\",\n",
    "    margins=True,\n",
    ")\n",
    "\n",
    "# plot table as heatmap\n",
    "fig, ax = plt.subplots(figsize=(9, 6))\n",
    "ax = sns.heatmap(table, annot=True, fmt=\".1f\", cmap=\"YlGnBu\", linewidths=1)\n",
    "bottom, top = ax.get_ylim()\n",
    "ax.set_ylim(bottom + 0.5, top - 0.5)\n",
    "ax.set_ylabel(\"\")\n",
    "ax.set_xlabel(\"\")\n",
    "ax.set_title(\"Review Rating Scores by Room Type and Location\")\n",
    "plt.savefig(\n",
    "    \"image/table:review_by_city_and_type.png\",\n",
    "    dpi=200,\n",
    "    bbox_inches=\"tight\",\n",
    "    pad_inches=0.1,\n",
    ")"
   ]
  },
  {
   "cell_type": "markdown",
   "metadata": {},
   "source": [
    "### Table: Normalized Review Scores (rating/price) by Room Type and Location"
   ]
  },
  {
   "cell_type": "code",
   "execution_count": null,
   "metadata": {
    "ExecuteTime": {
     "end_time": "2020-02-15T09:06:16.304857Z",
     "start_time": "2020-02-15T09:06:15.968009Z"
    },
    "run_control": {
     "marked": true
    }
   },
   "outputs": [],
   "source": [
    "# create a temporary dataframe storing the city, room type, rating, and price info\n",
    "temp_df = df[[\"review_scores_rating\", \"price\", \"new_city\", \"room_type\"]].copy()\n",
    "temp_df.dropna(inplace=True)\n",
    "temp_df[\"rating_to_price\"] = temp_df[\"review_scores_rating\"] / temp_df[\"price\"]\n",
    "table = pd.pivot_table(\n",
    "    data=temp_df,\n",
    "    values=\"rating_to_price\",\n",
    "    index=\"new_city\",\n",
    "    columns=\"room_type\",\n",
    "    margins=True,\n",
    "    aggfunc=\"mean\",\n",
    ")\n",
    "\n",
    "# plot table as heatmap\n",
    "fig, ax = plt.subplots(figsize=(9, 6))\n",
    "ax = sns.heatmap(table, annot=True, fmt=\".1f\", cmap=\"YlGnBu\", linewidths=1)\n",
    "bottom, top = ax.get_ylim()\n",
    "ax.set_ylim(bottom + 0.5, top - 0.5)\n",
    "ax.set_ylabel(\"\")\n",
    "ax.set_xlabel(\"\")\n",
    "ax.set_title(\"Normalized Review Rating by Room Type and Location\")"
   ]
  },
  {
   "cell_type": "markdown",
   "metadata": {},
   "source": [
    "## Cleaning Fee"
   ]
  },
  {
   "cell_type": "markdown",
   "metadata": {},
   "source": [
    "### Percentages of Listings that Charge Seperate Cleaning Fees"
   ]
  },
  {
   "cell_type": "code",
   "execution_count": null,
   "metadata": {
    "ExecuteTime": {
     "end_time": "2020-02-15T09:06:16.335891Z",
     "start_time": "2020-02-15T09:06:16.306854Z"
    },
    "run_control": {
     "marked": true
    }
   },
   "outputs": [],
   "source": [
    "# convert cleaning_fee column from str to float\n",
    "df[\"cleaning_fee\"] = df[\"cleaning_fee\"].replace(\n",
    "    \"[^.0-9]\", \"\", regex=True).astype(float)"
   ]
  },
  {
   "cell_type": "code",
   "execution_count": null,
   "metadata": {
    "ExecuteTime": {
     "end_time": "2020-02-15T09:06:16.342959Z",
     "start_time": "2020-02-15T09:06:16.336909Z"
    },
    "run_control": {
     "marked": true
    }
   },
   "outputs": [],
   "source": [
    "# create temporary dataframe with needed columns for analysis/plot\n",
    "temp_df = df[\n",
    "    [\n",
    "        \"review_scores_rating\",\n",
    "        \"price\",\n",
    "        \"new_city\",\n",
    "        \"room_type\",\n",
    "        \"cleaning_fee\",\n",
    "        \"review_scores_cleanliness\",\n",
    "    ]\n",
    "].copy()\n",
    "temp_df[\"seperate_cleaning_fee\"] = temp_df[\"cleaning_fee\"].notna()"
   ]
  },
  {
   "cell_type": "code",
   "execution_count": null,
   "metadata": {
    "ExecuteTime": {
     "end_time": "2020-02-15T09:06:17.108546Z",
     "start_time": "2020-02-15T09:06:16.344057Z"
    },
    "run_control": {
     "marked": true
    }
   },
   "outputs": [],
   "source": [
    "# create a pivot table for plotting\n",
    "table = pd.pivot_table(\n",
    "    data=temp_df,\n",
    "    values=\"seperate_cleaning_fee\",\n",
    "    index=\"new_city\",\n",
    "    columns=\"room_type\",\n",
    "    margins=True,\n",
    ")\n",
    "\n",
    "# plot table as heatmap\n",
    "fig, ax = plt.subplots(figsize=(9, 6))\n",
    "ax = sns.heatmap(table, annot=True, fmt=\".2f\", cmap=\"YlGnBu\", linewidths=1)\n",
    "bottom, top = ax.get_ylim()\n",
    "ax.set_ylim(bottom + 0.5, top - 0.5)\n",
    "ax.set_ylabel(\"\")\n",
    "ax.set_xlabel(\"\")\n",
    "ax.set_title(\n",
    "    \"% of Listings that Charge Seperate Cleanning fee by Room Type and Location\"\n",
    ")\n",
    "\n",
    "plt.savefig(\n",
    "    \"image/table:cleaning_fee1.png\", dpi=200, bbox_inches=\"tight\", pad_inches=0.1\n",
    ")"
   ]
  },
  {
   "cell_type": "markdown",
   "metadata": {},
   "source": [
    "### Average Cleaning Fee by Room Type and Location"
   ]
  },
  {
   "cell_type": "code",
   "execution_count": null,
   "metadata": {
    "ExecuteTime": {
     "end_time": "2020-02-15T09:06:17.878446Z",
     "start_time": "2020-02-15T09:06:17.109764Z"
    },
    "run_control": {
     "marked": true
    }
   },
   "outputs": [],
   "source": [
    "# create a pivot table for plotting\n",
    "table = pd.pivot_table(\n",
    "    data=temp_df,\n",
    "    values=\"cleaning_fee\",\n",
    "    index=\"new_city\",\n",
    "    columns=\"room_type\",\n",
    "    aggfunc=\"mean\",\n",
    "    margins=True,\n",
    ")\n",
    "\n",
    "# plot table as heatmap\n",
    "fig, ax = plt.subplots(figsize=(9, 6))\n",
    "ax = sns.heatmap(table, annot=True, fmt=\".2f\", cmap=\"YlGnBu\", linewidths=1)\n",
    "bottom, top = ax.get_ylim()\n",
    "ax.set_ylim(bottom + 0.5, top - 0.5)\n",
    "ax.set_ylabel(\"\")\n",
    "ax.set_xlabel(\"\")\n",
    "ax.set_title(\"Average Cleanning fee by Room Type and Location\")\n",
    "plt.savefig(\n",
    "    \"image/table:cleaning_fee2.png\", dpi=200, bbox_inches=\"tight\", pad_inches=0.1\n",
    ")"
   ]
  },
  {
   "cell_type": "markdown",
   "metadata": {},
   "source": [
    "### Does Cleaning Fee Result in Higher Guest Satisfication"
   ]
  },
  {
   "cell_type": "code",
   "execution_count": null,
   "metadata": {
    "ExecuteTime": {
     "end_time": "2020-02-15T09:06:17.894864Z",
     "start_time": "2020-02-15T09:06:17.881416Z"
    },
    "run_control": {
     "marked": true
    }
   },
   "outputs": [],
   "source": [
    "# Average cleanliness scores by whether cleaning fee is charged\n",
    "temp_df.groupby([\"seperate_cleaning_fee\"])[\"review_scores_cleanliness\"].agg(\n",
    "    [\"mean\", \"count\"]\n",
    ")"
   ]
  },
  {
   "cell_type": "code",
   "execution_count": null,
   "metadata": {
    "ExecuteTime": {
     "end_time": "2020-02-15T09:06:18.426992Z",
     "start_time": "2020-02-15T09:06:17.896646Z"
    },
    "run_control": {
     "marked": true
    }
   },
   "outputs": [],
   "source": [
    "# boxplot and stripplot of cleanliness review scores\n",
    "\n",
    "plt.figure(figsize=(6, 6), dpi=80)\n",
    "sns.boxplot(x=\"seperate_cleaning_fee\",\n",
    "            y=\"review_scores_cleanliness\", data=temp_df)\n",
    "sns.stripplot(\n",
    "    x=\"seperate_cleaning_fee\",\n",
    "    y=\"review_scores_cleanliness\",\n",
    "    data=temp_df,\n",
    "    color=\"black\",\n",
    "    size=3,\n",
    "    jitter=1,\n",
    "    alpha=0.3,\n",
    ")\n",
    "\n",
    "plt.savefig(\n",
    "    \"image/table:cleaning_fee3.png\", dpi=200, bbox_inches=\"tight\", pad_inches=0.1\n",
    ")"
   ]
  }
 ],
 "metadata": {
  "hide_input": false,
  "kernelspec": {
   "display_name": "Python 3",
   "language": "python",
   "name": "python3"
  },
  "language_info": {
   "codemirror_mode": {
    "name": "ipython",
    "version": 3
   },
   "file_extension": ".py",
   "mimetype": "text/x-python",
   "name": "python",
   "nbconvert_exporter": "python",
   "pygments_lexer": "ipython3",
   "version": "3.7.4"
  },
  "notify_time": "5",
  "toc": {
   "base_numbering": 1,
   "nav_menu": {},
   "number_sections": true,
   "sideBar": true,
   "skip_h1_title": true,
   "title_cell": "Table of Contents",
   "title_sidebar": "Contents",
   "toc_cell": false,
   "toc_position": {},
   "toc_section_display": true,
   "toc_window_display": true
  },
  "toc-autonumbering": true,
  "toc-showcode": false,
  "toc-showmarkdowntxt": false,
  "toc-showtags": false,
  "varInspector": {
   "cols": {
    "lenName": 16,
    "lenType": 16,
    "lenVar": 40
   },
   "kernels_config": {
    "python": {
     "delete_cmd_postfix": "",
     "delete_cmd_prefix": "del ",
     "library": "var_list.py",
     "varRefreshCmd": "print(var_dic_list())"
    },
    "r": {
     "delete_cmd_postfix": ") ",
     "delete_cmd_prefix": "rm(",
     "library": "var_list.r",
     "varRefreshCmd": "cat(var_dic_list()) "
    }
   },
   "position": {
    "height": "320.85px",
    "left": "1381px",
    "right": "20px",
    "top": "104px",
    "width": "310px"
   },
   "types_to_exclude": [
    "module",
    "function",
    "builtin_function_or_method",
    "instance",
    "_Feature"
   ],
   "window_display": false
  }
 },
 "nbformat": 4,
 "nbformat_minor": 4
}
