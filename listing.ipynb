{
 "cells": [
  {
   "cell_type": "code",
   "execution_count": 49,
   "metadata": {},
   "outputs": [],
   "source": [
    "import pandas as pd\n",
    "import matplotlib as mpl\n",
    "import matplotlib.pyplot as plt\n",
    "import matplotlib.dates as mdates\n",
    "import warnings; warnings.filterwarnings(action='once')\n",
    "\n",
    "large = 22; med = 16; small = 12\n",
    "params = {'axes.titlesize': large,\n",
    "          'legend.fontsize': med,\n",
    "          'figure.figsize': (16, 10),\n",
    "          'axes.labelsize': med,\n",
    "          'axes.titlesize': med,\n",
    "          'xtick.labelsize': med,\n",
    "          'ytick.labelsize': med,\n",
    "          'figure.titlesize': large}\n",
    "plt.rcParams.update(params)\n",
    "plt.style.use('seaborn-whitegrid')\n",
    "\n",
    "%matplotlib inline"
   ]
  },
  {
   "cell_type": "markdown",
   "metadata": {},
   "source": [
    "## Objectives:\n",
    "- Develop the best strategy to book Airb&b rooms in Boston\n",
    "    - Find the cheapest/most expensive listings in the same area (zipcode) at similar rating levels"
   ]
  },
  {
   "cell_type": "markdown",
   "metadata": {},
   "source": [
    "## Load in Data"
   ]
  },
  {
   "cell_type": "code",
   "execution_count": 3,
   "metadata": {},
   "outputs": [],
   "source": [
    "lst_df = pd.read_csv('data/santaclara/listings.csv.gz')\n",
    "cal_df = pd.read_csv('data/santaclara/calendar.csv.gz')\n",
    "rev_df = pd.read_csv('data/santaclara/reviews.csv.gz')"
   ]
  },
  {
   "cell_type": "markdown",
   "metadata": {},
   "source": [
    "### Take a quick look at the data"
   ]
  },
  {
   "cell_type": "code",
   "execution_count": 4,
   "metadata": {},
   "outputs": [
    {
     "data": {
      "text/plain": [
       "(7658, 106)"
      ]
     },
     "metadata": {},
     "output_type": "display_data"
    },
    {
     "data": {
      "text/plain": [
       "(2795182, 7)"
      ]
     },
     "metadata": {},
     "output_type": "display_data"
    },
    {
     "data": {
      "text/plain": [
       "(221803, 6)"
      ]
     },
     "metadata": {},
     "output_type": "display_data"
    }
   ],
   "source": [
    "display(lst_df.shape, cal_df.shape, rev_df.shape)"
   ]
  },
  {
   "cell_type": "code",
   "execution_count": 5,
   "metadata": {
    "collapsed": true
   },
   "outputs": [
    {
     "data": {
      "text/html": [
       "<div>\n",
       "<style scoped>\n",
       "    .dataframe tbody tr th:only-of-type {\n",
       "        vertical-align: middle;\n",
       "    }\n",
       "\n",
       "    .dataframe tbody tr th {\n",
       "        vertical-align: top;\n",
       "    }\n",
       "\n",
       "    .dataframe thead th {\n",
       "        text-align: right;\n",
       "    }\n",
       "</style>\n",
       "<table border=\"1\" class=\"dataframe\">\n",
       "  <thead>\n",
       "    <tr style=\"text-align: right;\">\n",
       "      <th></th>\n",
       "      <th>id</th>\n",
       "      <th>listing_url</th>\n",
       "      <th>scrape_id</th>\n",
       "      <th>last_scraped</th>\n",
       "      <th>name</th>\n",
       "      <th>summary</th>\n",
       "      <th>space</th>\n",
       "      <th>description</th>\n",
       "      <th>experiences_offered</th>\n",
       "      <th>neighborhood_overview</th>\n",
       "      <th>...</th>\n",
       "      <th>instant_bookable</th>\n",
       "      <th>is_business_travel_ready</th>\n",
       "      <th>cancellation_policy</th>\n",
       "      <th>require_guest_profile_picture</th>\n",
       "      <th>require_guest_phone_verification</th>\n",
       "      <th>calculated_host_listings_count</th>\n",
       "      <th>calculated_host_listings_count_entire_homes</th>\n",
       "      <th>calculated_host_listings_count_private_rooms</th>\n",
       "      <th>calculated_host_listings_count_shared_rooms</th>\n",
       "      <th>reviews_per_month</th>\n",
       "    </tr>\n",
       "  </thead>\n",
       "  <tbody>\n",
       "    <tr>\n",
       "      <th>0</th>\n",
       "      <td>4952</td>\n",
       "      <td>https://www.airbnb.com/rooms/4952</td>\n",
       "      <td>20191107231003</td>\n",
       "      <td>2019-11-07</td>\n",
       "      <td>Butterfly Inn - Graceful Living !</td>\n",
       "      <td>Lovely garden setting in a serene and art-fill...</td>\n",
       "      <td>Very comfortable Queen bed and small desk in b...</td>\n",
       "      <td>Lovely garden setting in a serene and art-fill...</td>\n",
       "      <td>none</td>\n",
       "      <td>Located in Professorville, Palo Alto, one of t...</td>\n",
       "      <td>...</td>\n",
       "      <td>f</td>\n",
       "      <td>f</td>\n",
       "      <td>moderate</td>\n",
       "      <td>f</td>\n",
       "      <td>f</td>\n",
       "      <td>5</td>\n",
       "      <td>0</td>\n",
       "      <td>5</td>\n",
       "      <td>0</td>\n",
       "      <td>0.60</td>\n",
       "    </tr>\n",
       "    <tr>\n",
       "      <th>1</th>\n",
       "      <td>11464</td>\n",
       "      <td>https://www.airbnb.com/rooms/11464</td>\n",
       "      <td>20191107231003</td>\n",
       "      <td>2019-11-08</td>\n",
       "      <td>Deluxe Private Studio-custom int.</td>\n",
       "      <td>Custom built Studio with exquisite design. Per...</td>\n",
       "      <td>Description A favorite for international corpo...</td>\n",
       "      <td>Custom built Studio with exquisite design. Per...</td>\n",
       "      <td>none</td>\n",
       "      <td>10 min. to Lucky's and Starbucks at El Camino ...</td>\n",
       "      <td>...</td>\n",
       "      <td>t</td>\n",
       "      <td>f</td>\n",
       "      <td>moderate</td>\n",
       "      <td>f</td>\n",
       "      <td>t</td>\n",
       "      <td>15</td>\n",
       "      <td>15</td>\n",
       "      <td>0</td>\n",
       "      <td>0</td>\n",
       "      <td>0.09</td>\n",
       "    </tr>\n",
       "    <tr>\n",
       "      <th>2</th>\n",
       "      <td>19181</td>\n",
       "      <td>https://www.airbnb.com/rooms/19181</td>\n",
       "      <td>20191107231003</td>\n",
       "      <td>2019-11-08</td>\n",
       "      <td>Majestic Room #1 with Sauna and Large Family Room</td>\n",
       "      <td>Enjoy your privacy in this spacious and luxuri...</td>\n",
       "      <td>This is a lock-off guest unit in the lower lev...</td>\n",
       "      <td>Enjoy your privacy in this spacious and luxuri...</td>\n",
       "      <td>none</td>\n",
       "      <td>We are located in a 5-minute walk to downtown ...</td>\n",
       "      <td>...</td>\n",
       "      <td>f</td>\n",
       "      <td>f</td>\n",
       "      <td>moderate</td>\n",
       "      <td>t</td>\n",
       "      <td>t</td>\n",
       "      <td>3</td>\n",
       "      <td>1</td>\n",
       "      <td>2</td>\n",
       "      <td>0</td>\n",
       "      <td>0.11</td>\n",
       "    </tr>\n",
       "    <tr>\n",
       "      <th>3</th>\n",
       "      <td>21373</td>\n",
       "      <td>https://www.airbnb.com/rooms/21373</td>\n",
       "      <td>20191107231003</td>\n",
       "      <td>2019-11-07</td>\n",
       "      <td>Bonsai Garden Inn in Professorville</td>\n",
       "      <td>Room  in gracious home with beautiful garden. ...</td>\n",
       "      <td>Bright, garden-facing room in beautiful home. ...</td>\n",
       "      <td>Room  in gracious home with beautiful garden. ...</td>\n",
       "      <td>none</td>\n",
       "      <td>This room is in an ultra convenient location i...</td>\n",
       "      <td>...</td>\n",
       "      <td>f</td>\n",
       "      <td>f</td>\n",
       "      <td>moderate</td>\n",
       "      <td>f</td>\n",
       "      <td>f</td>\n",
       "      <td>5</td>\n",
       "      <td>0</td>\n",
       "      <td>5</td>\n",
       "      <td>0</td>\n",
       "      <td>2.16</td>\n",
       "    </tr>\n",
       "    <tr>\n",
       "      <th>4</th>\n",
       "      <td>23732</td>\n",
       "      <td>https://www.airbnb.com/rooms/23732</td>\n",
       "      <td>20191107231003</td>\n",
       "      <td>2019-11-07</td>\n",
       "      <td>Heart of Silicon Valley bdrm &amp; bath</td>\n",
       "      <td>NaN</td>\n",
       "      <td>You'll have the room to yourself as well as a ...</td>\n",
       "      <td>You'll have the room to yourself as well as a ...</td>\n",
       "      <td>none</td>\n",
       "      <td>NaN</td>\n",
       "      <td>...</td>\n",
       "      <td>f</td>\n",
       "      <td>f</td>\n",
       "      <td>moderate</td>\n",
       "      <td>f</td>\n",
       "      <td>f</td>\n",
       "      <td>1</td>\n",
       "      <td>0</td>\n",
       "      <td>1</td>\n",
       "      <td>0</td>\n",
       "      <td>0.03</td>\n",
       "    </tr>\n",
       "  </tbody>\n",
       "</table>\n",
       "<p>5 rows × 106 columns</p>\n",
       "</div>"
      ],
      "text/plain": [
       "      id                         listing_url       scrape_id last_scraped  \\\n",
       "0   4952   https://www.airbnb.com/rooms/4952  20191107231003   2019-11-07   \n",
       "1  11464  https://www.airbnb.com/rooms/11464  20191107231003   2019-11-08   \n",
       "2  19181  https://www.airbnb.com/rooms/19181  20191107231003   2019-11-08   \n",
       "3  21373  https://www.airbnb.com/rooms/21373  20191107231003   2019-11-07   \n",
       "4  23732  https://www.airbnb.com/rooms/23732  20191107231003   2019-11-07   \n",
       "\n",
       "                                                name  \\\n",
       "0                  Butterfly Inn - Graceful Living !   \n",
       "1                  Deluxe Private Studio-custom int.   \n",
       "2  Majestic Room #1 with Sauna and Large Family Room   \n",
       "3                Bonsai Garden Inn in Professorville   \n",
       "4                Heart of Silicon Valley bdrm & bath   \n",
       "\n",
       "                                             summary  \\\n",
       "0  Lovely garden setting in a serene and art-fill...   \n",
       "1  Custom built Studio with exquisite design. Per...   \n",
       "2  Enjoy your privacy in this spacious and luxuri...   \n",
       "3  Room  in gracious home with beautiful garden. ...   \n",
       "4                                                NaN   \n",
       "\n",
       "                                               space  \\\n",
       "0  Very comfortable Queen bed and small desk in b...   \n",
       "1  Description A favorite for international corpo...   \n",
       "2  This is a lock-off guest unit in the lower lev...   \n",
       "3  Bright, garden-facing room in beautiful home. ...   \n",
       "4  You'll have the room to yourself as well as a ...   \n",
       "\n",
       "                                         description experiences_offered  \\\n",
       "0  Lovely garden setting in a serene and art-fill...                none   \n",
       "1  Custom built Studio with exquisite design. Per...                none   \n",
       "2  Enjoy your privacy in this spacious and luxuri...                none   \n",
       "3  Room  in gracious home with beautiful garden. ...                none   \n",
       "4  You'll have the room to yourself as well as a ...                none   \n",
       "\n",
       "                               neighborhood_overview  ... instant_bookable  \\\n",
       "0  Located in Professorville, Palo Alto, one of t...  ...                f   \n",
       "1  10 min. to Lucky's and Starbucks at El Camino ...  ...                t   \n",
       "2  We are located in a 5-minute walk to downtown ...  ...                f   \n",
       "3  This room is in an ultra convenient location i...  ...                f   \n",
       "4                                                NaN  ...                f   \n",
       "\n",
       "  is_business_travel_ready cancellation_policy require_guest_profile_picture  \\\n",
       "0                        f            moderate                             f   \n",
       "1                        f            moderate                             f   \n",
       "2                        f            moderate                             t   \n",
       "3                        f            moderate                             f   \n",
       "4                        f            moderate                             f   \n",
       "\n",
       "  require_guest_phone_verification  calculated_host_listings_count  \\\n",
       "0                                f                               5   \n",
       "1                                t                              15   \n",
       "2                                t                               3   \n",
       "3                                f                               5   \n",
       "4                                f                               1   \n",
       "\n",
       "   calculated_host_listings_count_entire_homes  \\\n",
       "0                                            0   \n",
       "1                                           15   \n",
       "2                                            1   \n",
       "3                                            0   \n",
       "4                                            0   \n",
       "\n",
       "  calculated_host_listings_count_private_rooms  \\\n",
       "0                                            5   \n",
       "1                                            0   \n",
       "2                                            2   \n",
       "3                                            5   \n",
       "4                                            1   \n",
       "\n",
       "   calculated_host_listings_count_shared_rooms  reviews_per_month  \n",
       "0                                            0               0.60  \n",
       "1                                            0               0.09  \n",
       "2                                            0               0.11  \n",
       "3                                            0               2.16  \n",
       "4                                            0               0.03  \n",
       "\n",
       "[5 rows x 106 columns]"
      ]
     },
     "execution_count": 5,
     "metadata": {},
     "output_type": "execute_result"
    }
   ],
   "source": [
    "lst_df.head()"
   ]
  },
  {
   "cell_type": "code",
   "execution_count": 6,
   "metadata": {
    "collapsed": true
   },
   "outputs": [
    {
     "data": {
      "text/html": [
       "<div>\n",
       "<style scoped>\n",
       "    .dataframe tbody tr th:only-of-type {\n",
       "        vertical-align: middle;\n",
       "    }\n",
       "\n",
       "    .dataframe tbody tr th {\n",
       "        vertical-align: top;\n",
       "    }\n",
       "\n",
       "    .dataframe thead th {\n",
       "        text-align: right;\n",
       "    }\n",
       "</style>\n",
       "<table border=\"1\" class=\"dataframe\">\n",
       "  <thead>\n",
       "    <tr style=\"text-align: right;\">\n",
       "      <th></th>\n",
       "      <th>listing_id</th>\n",
       "      <th>date</th>\n",
       "      <th>available</th>\n",
       "      <th>price</th>\n",
       "      <th>adjusted_price</th>\n",
       "      <th>minimum_nights</th>\n",
       "      <th>maximum_nights</th>\n",
       "    </tr>\n",
       "  </thead>\n",
       "  <tbody>\n",
       "    <tr>\n",
       "      <th>0</th>\n",
       "      <td>4952</td>\n",
       "      <td>2019-11-07</td>\n",
       "      <td>f</td>\n",
       "      <td>$75.00</td>\n",
       "      <td>$75.00</td>\n",
       "      <td>2.0</td>\n",
       "      <td>365.0</td>\n",
       "    </tr>\n",
       "    <tr>\n",
       "      <th>1</th>\n",
       "      <td>4952</td>\n",
       "      <td>2019-11-08</td>\n",
       "      <td>f</td>\n",
       "      <td>$75.00</td>\n",
       "      <td>$75.00</td>\n",
       "      <td>2.0</td>\n",
       "      <td>365.0</td>\n",
       "    </tr>\n",
       "    <tr>\n",
       "      <th>2</th>\n",
       "      <td>4952</td>\n",
       "      <td>2019-11-09</td>\n",
       "      <td>f</td>\n",
       "      <td>$75.00</td>\n",
       "      <td>$75.00</td>\n",
       "      <td>2.0</td>\n",
       "      <td>365.0</td>\n",
       "    </tr>\n",
       "    <tr>\n",
       "      <th>3</th>\n",
       "      <td>4952</td>\n",
       "      <td>2019-11-10</td>\n",
       "      <td>f</td>\n",
       "      <td>$75.00</td>\n",
       "      <td>$75.00</td>\n",
       "      <td>2.0</td>\n",
       "      <td>365.0</td>\n",
       "    </tr>\n",
       "    <tr>\n",
       "      <th>4</th>\n",
       "      <td>4952</td>\n",
       "      <td>2019-11-11</td>\n",
       "      <td>f</td>\n",
       "      <td>$75.00</td>\n",
       "      <td>$75.00</td>\n",
       "      <td>2.0</td>\n",
       "      <td>365.0</td>\n",
       "    </tr>\n",
       "  </tbody>\n",
       "</table>\n",
       "</div>"
      ],
      "text/plain": [
       "   listing_id        date available   price adjusted_price  minimum_nights  \\\n",
       "0        4952  2019-11-07         f  $75.00         $75.00             2.0   \n",
       "1        4952  2019-11-08         f  $75.00         $75.00             2.0   \n",
       "2        4952  2019-11-09         f  $75.00         $75.00             2.0   \n",
       "3        4952  2019-11-10         f  $75.00         $75.00             2.0   \n",
       "4        4952  2019-11-11         f  $75.00         $75.00             2.0   \n",
       "\n",
       "   maximum_nights  \n",
       "0           365.0  \n",
       "1           365.0  \n",
       "2           365.0  \n",
       "3           365.0  \n",
       "4           365.0  "
      ]
     },
     "execution_count": 6,
     "metadata": {},
     "output_type": "execute_result"
    }
   ],
   "source": [
    "cal_df.head()"
   ]
  },
  {
   "cell_type": "code",
   "execution_count": 7,
   "metadata": {
    "collapsed": true
   },
   "outputs": [
    {
     "data": {
      "text/html": [
       "<div>\n",
       "<style scoped>\n",
       "    .dataframe tbody tr th:only-of-type {\n",
       "        vertical-align: middle;\n",
       "    }\n",
       "\n",
       "    .dataframe tbody tr th {\n",
       "        vertical-align: top;\n",
       "    }\n",
       "\n",
       "    .dataframe thead th {\n",
       "        text-align: right;\n",
       "    }\n",
       "</style>\n",
       "<table border=\"1\" class=\"dataframe\">\n",
       "  <thead>\n",
       "    <tr style=\"text-align: right;\">\n",
       "      <th></th>\n",
       "      <th>listing_id</th>\n",
       "      <th>id</th>\n",
       "      <th>date</th>\n",
       "      <th>reviewer_id</th>\n",
       "      <th>reviewer_name</th>\n",
       "      <th>comments</th>\n",
       "    </tr>\n",
       "  </thead>\n",
       "  <tbody>\n",
       "    <tr>\n",
       "      <th>0</th>\n",
       "      <td>4952</td>\n",
       "      <td>6560</td>\n",
       "      <td>2009-08-02</td>\n",
       "      <td>25672</td>\n",
       "      <td>Diane</td>\n",
       "      <td>Staying with Mei Lin and Ross at the Butterfly...</td>\n",
       "    </tr>\n",
       "    <tr>\n",
       "      <th>1</th>\n",
       "      <td>4952</td>\n",
       "      <td>8953</td>\n",
       "      <td>2009-09-04</td>\n",
       "      <td>27901</td>\n",
       "      <td>Michaela</td>\n",
       "      <td>I stayed with Mei Lin and Ross during a confer...</td>\n",
       "    </tr>\n",
       "    <tr>\n",
       "      <th>2</th>\n",
       "      <td>4952</td>\n",
       "      <td>13779</td>\n",
       "      <td>2009-10-16</td>\n",
       "      <td>33939</td>\n",
       "      <td>Mark</td>\n",
       "      <td>What a wonderful place to stay. Wonderful peop...</td>\n",
       "    </tr>\n",
       "    <tr>\n",
       "      <th>3</th>\n",
       "      <td>4952</td>\n",
       "      <td>19790</td>\n",
       "      <td>2009-12-10</td>\n",
       "      <td>55537</td>\n",
       "      <td>David</td>\n",
       "      <td>Convenient &amp; easy-going, which is what I needed.</td>\n",
       "    </tr>\n",
       "    <tr>\n",
       "      <th>4</th>\n",
       "      <td>4952</td>\n",
       "      <td>51096</td>\n",
       "      <td>2010-06-08</td>\n",
       "      <td>131240</td>\n",
       "      <td>SiNae</td>\n",
       "      <td>Warm and friendly folks, very helpful! Very co...</td>\n",
       "    </tr>\n",
       "  </tbody>\n",
       "</table>\n",
       "</div>"
      ],
      "text/plain": [
       "   listing_id     id        date  reviewer_id reviewer_name  \\\n",
       "0        4952   6560  2009-08-02        25672         Diane   \n",
       "1        4952   8953  2009-09-04        27901      Michaela   \n",
       "2        4952  13779  2009-10-16        33939          Mark   \n",
       "3        4952  19790  2009-12-10        55537         David   \n",
       "4        4952  51096  2010-06-08       131240         SiNae   \n",
       "\n",
       "                                            comments  \n",
       "0  Staying with Mei Lin and Ross at the Butterfly...  \n",
       "1  I stayed with Mei Lin and Ross during a confer...  \n",
       "2  What a wonderful place to stay. Wonderful peop...  \n",
       "3   Convenient & easy-going, which is what I needed.  \n",
       "4  Warm and friendly folks, very helpful! Very co...  "
      ]
     },
     "execution_count": 7,
     "metadata": {},
     "output_type": "execute_result"
    }
   ],
   "source": [
    "rev_df.head()"
   ]
  },
  {
   "cell_type": "markdown",
   "metadata": {},
   "source": [
    "44 out of the 95 columns in the `listing` table have NAN values"
   ]
  },
  {
   "cell_type": "code",
   "execution_count": 8,
   "metadata": {},
   "outputs": [
    {
     "data": {
      "text/plain": [
       "True     54\n",
       "False    52\n",
       "dtype: int64"
      ]
     },
     "execution_count": 8,
     "metadata": {},
     "output_type": "execute_result"
    }
   ],
   "source": [
    "(lst_df.isna().mean() > 0).value_counts()"
   ]
  },
  {
   "cell_type": "code",
   "execution_count": 40,
   "metadata": {
    "code_folding": []
   },
   "outputs": [
    {
     "data": {
      "text/plain": [
       "experiences_offered                             0.0\n",
       "host_verifications                              0.0\n",
       "street                                          0.0\n",
       "neighbourhood_cleansed                          0.0\n",
       "last_scraped                                    0.0\n",
       "scrape_id                                       0.0\n",
       "listing_url                                     0.0\n",
       "host_url                                        0.0\n",
       "accommodates                                    0.0\n",
       "smart_location                                  0.0\n",
       "calendar_updated                                0.0\n",
       "availability_30                                 0.0\n",
       "availability_60                                 0.0\n",
       "availability_90                                 0.0\n",
       "availability_365                                0.0\n",
       "calendar_last_scraped                           0.0\n",
       "number_of_reviews                               0.0\n",
       "number_of_reviews_ltm                           0.0\n",
       "requires_license                                0.0\n",
       "instant_bookable                                0.0\n",
       "is_business_travel_ready                        0.0\n",
       "cancellation_policy                             0.0\n",
       "require_guest_profile_picture                   0.0\n",
       "require_guest_phone_verification                0.0\n",
       "calculated_host_listings_count                  0.0\n",
       "calculated_host_listings_count_entire_homes     0.0\n",
       "calculated_host_listings_count_private_rooms    0.0\n",
       "calculated_host_listings_count_shared_rooms     0.0\n",
       "has_availability                                0.0\n",
       "maximum_nights_avg_ntm                          0.0\n",
       "country_code                                    0.0\n",
       "minimum_nights_avg_ntm                          0.0\n",
       "country                                         0.0\n",
       "latitude                                        0.0\n",
       "longitude                                       0.0\n",
       "is_location_exact                               0.0\n",
       "property_type                                   0.0\n",
       "room_type                                       0.0\n",
       "bed_type                                        0.0\n",
       "amenities                                       0.0\n",
       "price                                           0.0\n",
       "guests_included                                 0.0\n",
       "extra_people                                    0.0\n",
       "minimum_nights                                  0.0\n",
       "maximum_nights                                  0.0\n",
       "minimum_minimum_nights                          0.0\n",
       "maximum_minimum_nights                          0.0\n",
       "minimum_maximum_nights                          0.0\n",
       "maximum_maximum_nights                          0.0\n",
       "id                                              0.0\n",
       "dtype: float64"
      ]
     },
     "execution_count": 40,
     "metadata": {},
     "output_type": "execute_result"
    }
   ],
   "source": [
    "# Columns with the most missing values\n",
    "\n",
    "lst_df.isna().mean().sort_values(ascending = False).tail(50)"
   ]
  },
  {
   "cell_type": "code",
   "execution_count": 11,
   "metadata": {
    "collapsed": true
   },
   "outputs": [
    {
     "data": {
      "text/plain": [
       "review_scores_rating           0.186994\n",
       "review_scores_accuracy         0.187125\n",
       "review_scores_cleanliness      0.187125\n",
       "review_scores_checkin          0.187386\n",
       "review_scores_communication    0.187255\n",
       "review_scores_location         0.187255\n",
       "review_scores_value            0.187386\n",
       "dtype: float64"
      ]
     },
     "execution_count": 11,
     "metadata": {},
     "output_type": "execute_result"
    }
   ],
   "source": [
    "# Columns contain keywords \"review\"\n",
    "\n",
    "lst_df.filter(like='score', axis=1).isna().mean()"
   ]
  },
  {
   "cell_type": "code",
   "execution_count": 12,
   "metadata": {
    "collapsed": true
   },
   "outputs": [
    {
     "data": {
      "text/plain": [
       "Index(['id', 'scrape_id', 'thumbnail_url', 'medium_url', 'xl_picture_url',\n",
       "       'host_id', 'host_acceptance_rate', 'host_listings_count',\n",
       "       'host_total_listings_count', 'neighbourhood_group_cleansed', 'latitude',\n",
       "       'longitude', 'accommodates', 'bathrooms', 'bedrooms', 'beds',\n",
       "       'square_feet', 'guests_included', 'minimum_nights', 'maximum_nights',\n",
       "       'minimum_minimum_nights', 'maximum_minimum_nights',\n",
       "       'minimum_maximum_nights', 'maximum_maximum_nights',\n",
       "       'minimum_nights_avg_ntm', 'maximum_nights_avg_ntm', 'availability_30',\n",
       "       'availability_60', 'availability_90', 'availability_365',\n",
       "       'number_of_reviews', 'number_of_reviews_ltm', 'review_scores_rating',\n",
       "       'review_scores_accuracy', 'review_scores_cleanliness',\n",
       "       'review_scores_checkin', 'review_scores_communication',\n",
       "       'review_scores_location', 'review_scores_value', 'license',\n",
       "       'calculated_host_listings_count',\n",
       "       'calculated_host_listings_count_entire_homes',\n",
       "       'calculated_host_listings_count_private_rooms',\n",
       "       'calculated_host_listings_count_shared_rooms', 'reviews_per_month'],\n",
       "      dtype='object')"
      ]
     },
     "execution_count": 12,
     "metadata": {},
     "output_type": "execute_result"
    }
   ],
   "source": [
    "lst_df.select_dtypes(exclude = 'object').columns"
   ]
  },
  {
   "cell_type": "code",
   "execution_count": 14,
   "metadata": {},
   "outputs": [
    {
     "data": {
      "text/plain": [
       "True"
      ]
     },
     "execution_count": 14,
     "metadata": {},
     "output_type": "execute_result"
    }
   ],
   "source": [
    "lst_df['id'].is_unique"
   ]
  },
  {
   "cell_type": "code",
   "execution_count": 13,
   "metadata": {},
   "outputs": [
    {
     "data": {
      "text/plain": [
       "Index(['listing_url', 'last_scraped', 'name', 'summary', 'space',\n",
       "       'description', 'experiences_offered', 'neighborhood_overview', 'notes',\n",
       "       'transit', 'access', 'interaction', 'house_rules', 'picture_url',\n",
       "       'host_url', 'host_name', 'host_since', 'host_location', 'host_about',\n",
       "       'host_response_time', 'host_response_rate', 'host_is_superhost',\n",
       "       'host_thumbnail_url', 'host_picture_url', 'host_neighbourhood',\n",
       "       'host_verifications', 'host_has_profile_pic', 'host_identity_verified',\n",
       "       'street', 'neighbourhood', 'neighbourhood_cleansed', 'city', 'state',\n",
       "       'zipcode', 'market', 'smart_location', 'country_code', 'country',\n",
       "       'is_location_exact', 'property_type', 'room_type', 'bed_type',\n",
       "       'amenities', 'price', 'weekly_price', 'monthly_price',\n",
       "       'security_deposit', 'cleaning_fee', 'extra_people', 'calendar_updated',\n",
       "       'has_availability', 'calendar_last_scraped', 'first_review',\n",
       "       'last_review', 'requires_license', 'jurisdiction_names',\n",
       "       'instant_bookable', 'is_business_travel_ready', 'cancellation_policy',\n",
       "       'require_guest_profile_picture', 'require_guest_phone_verification'],\n",
       "      dtype='object')"
      ]
     },
     "execution_count": 13,
     "metadata": {},
     "output_type": "execute_result"
    }
   ],
   "source": [
    "lst_df.select_dtypes(include = 'object').columns"
   ]
  },
  {
   "cell_type": "code",
   "execution_count": 24,
   "metadata": {},
   "outputs": [
    {
     "data": {
      "text/plain": [
       "zipcode\n",
       "94022        91\n",
       "94024        56\n",
       "94025         6\n",
       "94028         1\n",
       "94040       231\n",
       "           ... \n",
       "CA 94041      3\n",
       "CA 94089      3\n",
       "CA 95126      5\n",
       "CA 95128      1\n",
       "CA 95134      1\n",
       "Name: id, Length: 72, dtype: int64"
      ]
     },
     "execution_count": 24,
     "metadata": {},
     "output_type": "execute_result"
    }
   ],
   "source": [
    "\n",
    "lst_df.groupby(['zipcode']).count()['id']"
   ]
  },
  {
   "cell_type": "code",
   "execution_count": 44,
   "metadata": {},
   "outputs": [
    {
     "data": {
      "text/plain": [
       "zipcode\n",
       "94022     91\n",
       "94024     56\n",
       "94025      6\n",
       "94028      1\n",
       "94040    233\n",
       "        ... \n",
       "95138     16\n",
       "95139     13\n",
       "95140      3\n",
       "95148     68\n",
       "95215      1\n",
       "Name: id, Length: 64, dtype: int64"
      ]
     },
     "execution_count": 44,
     "metadata": {},
     "output_type": "execute_result"
    }
   ],
   "source": [
    "# clean up zipcode column data (i.e. CA 94041 ---> 94041)\n",
    "lst_df['zipcode'] = lst_df['zipcode'].str.extract(pat = '(9+[0-9]{4})')\n",
    "\n",
    "lst_df.groupby('zipcode')['id'].count()"
   ]
  },
  {
   "cell_type": "code",
   "execution_count": 15,
   "metadata": {},
   "outputs": [],
   "source": [
    "# cut the review_scores_rating into 10 bins\n",
    "bins = list(range(0,110,10))\n",
    "lst_df['ratings']=pd.cut(lst_df['review_scores_rating'],bins)\n"
   ]
  },
  {
   "cell_type": "code",
   "execution_count": 16,
   "metadata": {},
   "outputs": [
    {
     "data": {
      "text/plain": [
       "<matplotlib.axes._subplots.AxesSubplot at 0x7eff05c4b410>"
      ]
     },
     "execution_count": 16,
     "metadata": {},
     "output_type": "execute_result"
    },
    {
     "data": {
      "image/png": "[encoded data removed]",
      "text/plain": [
       "<Figure size 432x288 with 1 Axes>"
      ]
     },
     "metadata": {
      "needs_background": "light"
     },
     "output_type": "display_data"
    }
   ],
   "source": [
    "# How many listings fall under each rating\n",
    "lst_df.groupby('ratings').count()['id'].plot(kind = 'bar')"
   ]
  },
  {
   "cell_type": "markdown",
   "metadata": {},
   "source": [
    "### Is higher rated listing more expensive?"
   ]
  },
  {
   "cell_type": "code",
   "execution_count": 17,
   "metadata": {},
   "outputs": [
    {
     "data": {
      "text/plain": [
       "<matplotlib.axes._subplots.AxesSubplot at 0x7eff05c79410>"
      ]
     },
     "execution_count": 17,
     "metadata": {},
     "output_type": "execute_result"
    },
    {
     "data": {
      "image/png": "[encoded data removed]",
      "text/plain": [
       "<Figure size 432x288 with 1 Axes>"
      ]
     },
     "metadata": {
      "needs_background": "light"
     },
     "output_type": "display_data"
    }
   ],
   "source": [
    "# convert price column data type from object to float\n",
    "lst_df['price'] = lst_df['price'].replace('[\\$,]', '', regex=True).astype(float)\n",
    "\n",
    "# plot average listing price against review scores\n",
    "lst_df.groupby('ratings')[['price']].mean().plot(kind = 'bar')\n"
   ]
  },
  {
   "cell_type": "markdown",
   "metadata": {},
   "source": [
    "### How does host response time impact customer satisfaction?"
   ]
  },
  {
   "cell_type": "code",
   "execution_count": 18,
   "metadata": {},
   "outputs": [
    {
     "data": {
      "text/plain": [
       "<matplotlib.axes._subplots.AxesSubplot at 0x7eff05b47cd0>"
      ]
     },
     "execution_count": 18,
     "metadata": {},
     "output_type": "execute_result"
    },
    {
     "data": {
      "image/png": "[encoded data removed]",
      "text/plain": [
       "<Figure size 432x288 with 1 Axes>"
      ]
     },
     "metadata": {
      "needs_background": "light"
     },
     "output_type": "display_data"
    }
   ],
   "source": [
    "lst_df.groupby('host_response_time').mean()['review_scores_rating'].plot.bar()"
   ]
  },
  {
   "cell_type": "markdown",
   "metadata": {},
   "source": [
    "### Most expensive zipcode"
   ]
  },
  {
   "cell_type": "code",
   "execution_count": 19,
   "metadata": {},
   "outputs": [
    {
     "data": {
      "text/html": [
       "<div>\n",
       "<style scoped>\n",
       "    .dataframe tbody tr th:only-of-type {\n",
       "        vertical-align: middle;\n",
       "    }\n",
       "\n",
       "    .dataframe tbody tr th {\n",
       "        vertical-align: top;\n",
       "    }\n",
       "\n",
       "    .dataframe thead th {\n",
       "        text-align: right;\n",
       "    }\n",
       "</style>\n",
       "<table border=\"1\" class=\"dataframe\">\n",
       "  <thead>\n",
       "    <tr style=\"text-align: right;\">\n",
       "      <th></th>\n",
       "      <th>mean</th>\n",
       "      <th>count</th>\n",
       "    </tr>\n",
       "    <tr>\n",
       "      <th>zipcode</th>\n",
       "      <th></th>\n",
       "      <th></th>\n",
       "    </tr>\n",
       "  </thead>\n",
       "  <tbody>\n",
       "    <tr>\n",
       "      <th>95030</th>\n",
       "      <td>505.750000</td>\n",
       "      <td>60</td>\n",
       "    </tr>\n",
       "    <tr>\n",
       "      <th>94028</th>\n",
       "      <td>500.000000</td>\n",
       "      <td>1</td>\n",
       "    </tr>\n",
       "    <tr>\n",
       "      <th>95009</th>\n",
       "      <td>500.000000</td>\n",
       "      <td>1</td>\n",
       "    </tr>\n",
       "    <tr>\n",
       "      <th>95138</th>\n",
       "      <td>440.937500</td>\n",
       "      <td>16</td>\n",
       "    </tr>\n",
       "    <tr>\n",
       "      <th>94115</th>\n",
       "      <td>329.000000</td>\n",
       "      <td>1</td>\n",
       "    </tr>\n",
       "    <tr>\n",
       "      <th>...</th>\n",
       "      <td>...</td>\n",
       "      <td>...</td>\n",
       "    </tr>\n",
       "    <tr>\n",
       "      <th>95130</th>\n",
       "      <td>82.729167</td>\n",
       "      <td>48</td>\n",
       "    </tr>\n",
       "    <tr>\n",
       "      <th>95215</th>\n",
       "      <td>80.000000</td>\n",
       "      <td>1</td>\n",
       "    </tr>\n",
       "    <tr>\n",
       "      <th>95122</th>\n",
       "      <td>74.400000</td>\n",
       "      <td>95</td>\n",
       "    </tr>\n",
       "    <tr>\n",
       "      <th>95119</th>\n",
       "      <td>62.214286</td>\n",
       "      <td>14</td>\n",
       "    </tr>\n",
       "    <tr>\n",
       "      <th>9503\\n9503\\n95035</th>\n",
       "      <td>45.000000</td>\n",
       "      <td>1</td>\n",
       "    </tr>\n",
       "  </tbody>\n",
       "</table>\n",
       "<p>72 rows × 2 columns</p>\n",
       "</div>"
      ],
      "text/plain": [
       "                         mean  count\n",
       "zipcode                             \n",
       "95030              505.750000     60\n",
       "94028              500.000000      1\n",
       "95009              500.000000      1\n",
       "95138              440.937500     16\n",
       "94115              329.000000      1\n",
       "...                       ...    ...\n",
       "95130               82.729167     48\n",
       "95215               80.000000      1\n",
       "95122               74.400000     95\n",
       "95119               62.214286     14\n",
       "9503\\n9503\\n95035   45.000000      1\n",
       "\n",
       "[72 rows x 2 columns]"
      ]
     },
     "execution_count": 19,
     "metadata": {},
     "output_type": "execute_result"
    }
   ],
   "source": [
    "lst_df.groupby(['zipcode'])['price'].agg(['mean','count']).sort_values('mean', ascending = False)"
   ]
  },
  {
   "cell_type": "markdown",
   "metadata": {},
   "source": [
    "### Does super host's room command a premium"
   ]
  },
  {
   "cell_type": "code",
   "execution_count": 20,
   "metadata": {},
   "outputs": [
    {
     "data": {
      "text/html": [
       "<div>\n",
       "<style scoped>\n",
       "    .dataframe tbody tr th:only-of-type {\n",
       "        vertical-align: middle;\n",
       "    }\n",
       "\n",
       "    .dataframe tbody tr th {\n",
       "        vertical-align: top;\n",
       "    }\n",
       "\n",
       "    .dataframe thead th {\n",
       "        text-align: right;\n",
       "    }\n",
       "</style>\n",
       "<table border=\"1\" class=\"dataframe\">\n",
       "  <thead>\n",
       "    <tr style=\"text-align: right;\">\n",
       "      <th></th>\n",
       "      <th>mean</th>\n",
       "      <th>count</th>\n",
       "    </tr>\n",
       "    <tr>\n",
       "      <th>host_is_superhost</th>\n",
       "      <th></th>\n",
       "      <th></th>\n",
       "    </tr>\n",
       "  </thead>\n",
       "  <tbody>\n",
       "    <tr>\n",
       "      <th>t</th>\n",
       "      <td>97.410307</td>\n",
       "      <td>3066</td>\n",
       "    </tr>\n",
       "    <tr>\n",
       "      <th>f</th>\n",
       "      <td>92.883544</td>\n",
       "      <td>3160</td>\n",
       "    </tr>\n",
       "  </tbody>\n",
       "</table>\n",
       "</div>"
      ],
      "text/plain": [
       "                        mean  count\n",
       "host_is_superhost                  \n",
       "t                  97.410307   3066\n",
       "f                  92.883544   3160"
      ]
     },
     "execution_count": 20,
     "metadata": {},
     "output_type": "execute_result"
    }
   ],
   "source": [
    "lst_df.groupby(['host_is_superhost'])['review_scores_rating'].agg(['mean','count']).sort_values('mean', ascending = False)"
   ]
  },
  {
   "cell_type": "code",
   "execution_count": 21,
   "metadata": {},
   "outputs": [
    {
     "data": {
      "text/html": [
       "<div>\n",
       "<style scoped>\n",
       "    .dataframe tbody tr th:only-of-type {\n",
       "        vertical-align: middle;\n",
       "    }\n",
       "\n",
       "    .dataframe tbody tr th {\n",
       "        vertical-align: top;\n",
       "    }\n",
       "\n",
       "    .dataframe thead th {\n",
       "        text-align: right;\n",
       "    }\n",
       "</style>\n",
       "<table border=\"1\" class=\"dataframe\">\n",
       "  <thead>\n",
       "    <tr style=\"text-align: right;\">\n",
       "      <th></th>\n",
       "      <th>mean</th>\n",
       "      <th>count</th>\n",
       "    </tr>\n",
       "    <tr>\n",
       "      <th>host_is_superhost</th>\n",
       "      <th></th>\n",
       "      <th></th>\n",
       "    </tr>\n",
       "  </thead>\n",
       "  <tbody>\n",
       "    <tr>\n",
       "      <th>f</th>\n",
       "      <td>173.236861</td>\n",
       "      <td>4205</td>\n",
       "    </tr>\n",
       "    <tr>\n",
       "      <th>t</th>\n",
       "      <td>145.531866</td>\n",
       "      <td>3452</td>\n",
       "    </tr>\n",
       "  </tbody>\n",
       "</table>\n",
       "</div>"
      ],
      "text/plain": [
       "                         mean  count\n",
       "host_is_superhost                   \n",
       "f                  173.236861   4205\n",
       "t                  145.531866   3452"
      ]
     },
     "execution_count": 21,
     "metadata": {},
     "output_type": "execute_result"
    }
   ],
   "source": [
    "lst_df.groupby(['host_is_superhost'])['price'].agg(['mean','count']).sort_values('mean', ascending = False)"
   ]
  }
 ],
 "metadata": {
  "hide_input": false,
  "kernelspec": {
   "display_name": "Python 3",
   "language": "python",
   "name": "python3"
  },
  "language_info": {
   "codemirror_mode": {
    "name": "ipython",
    "version": 3
   },
   "file_extension": ".py",
   "mimetype": "text/x-python",
   "name": "python",
   "nbconvert_exporter": "python",
   "pygments_lexer": "ipython3",
   "version": "3.7.4"
  },
  "varInspector": {
   "cols": {
    "lenName": 16,
    "lenType": 16,
    "lenVar": 40
   },
   "kernels_config": {
    "python": {
     "delete_cmd_postfix": "",
     "delete_cmd_prefix": "del ",
     "library": "var_list.py",
     "varRefreshCmd": "print(var_dic_list())"
    },
    "r": {
     "delete_cmd_postfix": ") ",
     "delete_cmd_prefix": "rm(",
     "library": "var_list.r",
     "varRefreshCmd": "cat(var_dic_list()) "
    }
   },
   "position": {
    "height": "320.85px",
    "left": "34px",
    "right": "20px",
    "top": "127px",
    "width": "310px"
   },
   "types_to_exclude": [
    "module",
    "function",
    "builtin_function_or_method",
    "instance",
    "_Feature"
   ],
   "window_display": true
  }
 },
 "nbformat": 4,
 "nbformat_minor": 2
}
